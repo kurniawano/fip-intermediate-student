{
    "cells": [
        {
            "cell_type": "markdown",
            "metadata": {
                "nbgrader": {
                    "grade": false,
                    "locked": true,
                    "solution": false
                },
                "editable": false,
                "deletable": false
            },
            "source": [
                "# Problem Set 4"
            ]
        },
        {
            "cell_type": "markdown",
            "metadata": {
                "nbgrader": {
                    "grade": false,
                    "locked": true,
                    "solution": false
                },
                "editable": false,
                "deletable": false
            },
            "source": [
                "**Q1.** Answer the following questions:\n",
                "\n",
                "- How to create a tuple? Say with elements 3, 4, '3', and '4'.\n",
                "- How to create a tuple from a list? Say from `[3, 4, '3', '4']`.\n",
                "- How to create a tuple from a string? Say from `\"abac\"`.\n",
                "- How to get a length of a tuple?\n",
                "- How to get the n-th element of a tuple? \n",
                "- How to combine or concatenate two tuples?\n",
                "- How to duplicate a tuple?\n",
                "- How to create a tuple from another tuple by slicing?\n",
                "- How to check if an object is an element of a tuple?\n",
                "- How to traverse a tuple?\n",
                "- What's the difference between tuple and list?"
            ]
        },
        {
            "cell_type": "code",
            "execution_count": null,
            "metadata": {
                "collapsed": true
            },
            "outputs": [],
            "source": [
                "# Try it here\n",
                "\n",
                "###\n",
                "### YOUR CODE HERE\n",
                "###\n"
            ]
        },
        {
            "cell_type": "markdown",
            "metadata": {
                "nbgrader": {
                    "grade": false,
                    "locked": true,
                    "solution": false
                },
                "editable": false,
                "deletable": false
            },
            "source": [
                "**Q2.** Answer the following questions:\n",
                "\n",
                "- How do you create a set?\n",
                "- How to create a set from a list or a tuple?\n",
                "- How to create a set from a string?\n",
                "- How to add item into a set?\n",
                "- How to find the number of item in the set?\n",
                "- How to remove an item from the set?\n",
                "- How to check if a set a subset of another set?\n",
                "- How to check if a set is a superset of another set?\n",
                "- How to check if a set is a proper subset or a proper superset of another set?\n",
                "- How to create a union from two sets?\n",
                "- How to create an intersection from two sets?\n",
                "- How to find the difference between set 1 and set 2? \n",
                "- How to find a symmetric difference of two sets?"
            ]
        },
        {
            "cell_type": "code",
            "execution_count": null,
            "metadata": {
                "collapsed": true
            },
            "outputs": [],
            "source": [
                "# Try it here\n",
                "\n",
                "###\n",
                "### YOUR CODE HERE\n",
                "###\n"
            ]
        },
        {
            "cell_type": "markdown",
            "metadata": {
                "nbgrader": {
                    "grade": false,
                    "locked": true,
                    "solution": false
                },
                "editable": false,
                "deletable": false
            },
            "source": [
                "**Q3.** Answer the following Questions\n",
                "- How to create a dictionary?\n",
                "- How to get a value given a key in a dictionary?\n",
                "- How to add a key-value pair into a dictionary?\n",
                "- How to modify a key-value pair in a dictionary?\n",
                "- How to delete a key-value pair from a dictionary?\n",
                "- How to find the number of key-value pairs in a dictionary?\n",
                "- How to test if a key is in a dictionary?\n",
                "- How to get all the keys in a dictionary?\n",
                "- How to get all the values in a dictionary?\n",
                "- How to traverse a dictionary?\n",
                "- What's the difference between a dictionary and a set?\n"
            ]
        },
        {
            "cell_type": "code",
            "execution_count": null,
            "metadata": {
                "collapsed": true
            },
            "outputs": [],
            "source": [
                "# try it here\n",
                "\n",
                "###\n",
                "### YOUR CODE HERE\n",
                "###\n"
            ]
        },
        {
            "cell_type": "markdown",
            "metadata": {
                "nbgrader": {
                    "grade": false,
                    "locked": true,
                    "solution": false
                },
                "editable": false,
                "deletable": false
            },
            "source": [
                "**Q4.** *Counting Keywords:* Write a function that takes in two arguments. The first argument is a *set* of keywords, and the second arugment is a string of Python codes. The function should return how many keywords are there in the code."
            ]
        },
        {
            "cell_type": "code",
            "execution_count": 1,
            "metadata": {
                "collapsed": true
            },
            "outputs": [],
            "source": [
                "def count_keywords(keyword, code):\n",
                "    pass\n",
                "    ###\n",
                "    ### YOUR CODE HERE\n",
                "    ###\n",
                "    \n"
            ]
        },
        {
            "cell_type": "code",
            "execution_count": 2,
            "metadata": {
                "collapsed": true,
                "nbgrader": {
                    "grade": true,
                    "grade_id": "Q4",
                    "locked": true,
                    "points": "1",
                    "solution": false
                },
                "editable": false,
                "deletable": false
            },
            "outputs": [],
            "source": [
                "keywords = {\"and\", \"as\", \"assert\", \"break\", \"class\",\n",
                "            \"continue\", \"def\", \"del\", \"elif\", \"else\",\n",
                "            \"except\", \"False\", \"finally\", \"for\", \"from\",\n",
                "            \"global\", \"if\", \"import\", \"in\", \"is\", \"lambda\",\n",
                "            \"None\", \"nonlocal\", \"not\", \"or\", \"pass\", \"raise\",\n",
                "            \"return\", \"True\", \"try\", \"while\", \"with\", \"yield\"}\n",
                "\n",
                "inp1 = \"\"\"\n",
                "def accumulate(m):\n",
                "    total = 0\n",
                "    for row in m:\n",
                "        total += sum(row)\n",
                "    return total\n",
                "\"\"\"\n",
                "\n",
                "inp2 = \"\"\"\n",
                "import random\n",
                "def get_matrix(rows, cols):\n",
                "    matrix = []\n",
                "    for row in range(rows):\n",
                "        matrix.append([])\n",
                "        for col in range(cols):\n",
                "            value = random.randint(0,100)\n",
                "            matrix[row].append(value)\n",
                "    return matrix\n",
                "\"\"\"\n",
                "\n",
                "assert count_keywords(keywords, inp1) == 4\n",
                "assert count_keywords(keywords, inp2) == 7"
            ]
        },
        {
            "cell_type": "markdown",
            "metadata": {
                "nbgrader": {
                    "grade": false,
                    "locked": true,
                    "solution": false
                },
                "editable": false,
                "deletable": false
            },
            "source": [
                "**Q5.** Modify Q4 so that it returns not only the number of keywords but a tuple of all the keywords found. If there are more than one keywords, those duplicates should be in the tuple in the sequence that you found them from the first to the last."
            ]
        },
        {
            "cell_type": "code",
            "execution_count": null,
            "metadata": {
                "collapsed": true,
                "nbgrader": {
                    "grade": false,
                    "locked": false,
                    "solution": false
                }
            },
            "outputs": [],
            "source": [
                "def count_find_keywords(keywords, code):\n",
                "    pass\n",
                "    ###\n",
                "    ### YOUR CODE HERE\n",
                "    ###\n"
            ]
        },
        {
            "cell_type": "code",
            "execution_count": null,
            "metadata": {
                "collapsed": true,
                "nbgrader": {
                    "grade": true,
                    "grade_id": "Q5",
                    "locked": true,
                    "points": "1",
                    "solution": false
                },
                "editable": false,
                "deletable": false
            },
            "outputs": [],
            "source": [
                "keywords = {\"and\", \"as\", \"assert\", \"break\", \"class\",\n",
                "            \"continue\", \"def\", \"del\", \"elif\", \"else\",\n",
                "            \"except\", \"False\", \"finally\", \"for\", \"from\",\n",
                "            \"global\", \"if\", \"import\", \"in\", \"is\", \"lambda\",\n",
                "            \"None\", \"nonlocal\", \"not\", \"or\", \"pass\", \"raise\",\n",
                "            \"return\", \"True\", \"try\", \"while\", \"with\", \"yield\"}\n",
                "\n",
                "inp1 = \"\"\"\n",
                "def accumulate(m):\n",
                "    total = 0\n",
                "    for row in m:\n",
                "        total += sum(row)\n",
                "    return total\n",
                "\"\"\"\n",
                "\n",
                "inp2 = \"\"\"\n",
                "import random\n",
                "def get_matrix(rows, cols):\n",
                "    matrix = []\n",
                "    for row in range(rows):\n",
                "        matrix.append([])\n",
                "        for col in range(cols):\n",
                "            value = random.randint(0,100)\n",
                "            matrix[row].append(value)\n",
                "    return matrix\n",
                "\"\"\"\n",
                "\n",
                "assert count_find_keywords(keywords, inp1) == (4, (\"def\", \"for\", \"in\", \"return\"))\n",
                "assert count_find_keywords(keywords, inp2) == (7, (\"import\", \"def\", \"for\", \"in\", \"for\", \"in\", \"return\"))"
            ]
        },
        {
            "cell_type": "markdown",
            "metadata": {
                "nbgrader": {
                    "grade": false,
                    "locked": true,
                    "solution": false
                },
                "editable": false,
                "deletable": false
            },
            "source": [
                "**Q6.** *counting occurence of keywords:* Modify Q5 so that it return values is a dictionary where the keys are the list of unique keywords found and its values is the number of occurences of that keywrod."
            ]
        },
        {
            "cell_type": "code",
            "execution_count": null,
            "metadata": {
                "collapsed": true
            },
            "outputs": [],
            "source": [
                "def extract_keywords(keywords, code):\n",
                "    pass\n",
                "    ###\n",
                "    ### YOUR CODE HERE\n",
                "    ###\n"
            ]
        },
        {
            "cell_type": "code",
            "execution_count": null,
            "metadata": {
                "collapsed": true,
                "nbgrader": {
                    "grade": true,
                    "grade_id": "Q6",
                    "locked": true,
                    "points": "1",
                    "solution": false
                },
                "editable": false,
                "deletable": false
            },
            "outputs": [],
            "source": [
                "keywords = {\"and\", \"as\", \"assert\", \"break\", \"class\",\n",
                "            \"continue\", \"def\", \"del\", \"elif\", \"else\",\n",
                "            \"except\", \"False\", \"finally\", \"for\", \"from\",\n",
                "            \"global\", \"if\", \"import\", \"in\", \"is\", \"lambda\",\n",
                "            \"None\", \"nonlocal\", \"not\", \"or\", \"pass\", \"raise\",\n",
                "            \"return\", \"True\", \"try\", \"while\", \"with\", \"yield\"}\n",
                "\n",
                "inp1 = \"\"\"\n",
                "def accumulate(m):\n",
                "    total = 0\n",
                "    for row in m:\n",
                "        total += sum(row)\n",
                "    return total\n",
                "\"\"\"\n",
                "\n",
                "inp2 = \"\"\"\n",
                "import random\n",
                "def get_matrix(rows, cols):\n",
                "    matrix = []\n",
                "    for row in range(rows):\n",
                "        matrix.append([])\n",
                "        for col in range(cols):\n",
                "            value = random.randint(0,100)\n",
                "            matrix[row].append(value)\n",
                "    return matrix\n",
                "\"\"\"\n",
                "\n",
                "assert extract_keywords(keywords, inp1) == {\"def\": 1, \"for\": 1, \"in\": 1, \"return\":1}\n",
                "assert extract_keywords(keywords, inp2) == {\"import\": 1, \"def\": 1, \"for\": 2, \"in\": 2, \"return\": 1}"
            ]
        },
        {
            "cell_type": "markdown",
            "metadata": {
                "nbgrader": {
                    "grade": false,
                    "locked": true,
                    "solution": false
                },
                "editable": false,
                "deletable": false
            },
            "source": [
                "**Q7.** *Hangman:* This question and the followings are part of a problem to create a game called Hangman. Write a function that takes in a list of tuples and returns a dictionary. The input is a list of tuples where the element of the tuple is in the form `(category, word)`. For example, we have the following list:\n",
                "```\n",
                "[('animal', 'cat'), ('animal', 'dog'), ('food', 'rice'), ...]\n",
                "```\n",
                "\n",
                "The function should return a dictinary where the keys are the categories and the values are the set of words in that category. For example the above input list will result in:\n",
                "```\n",
                "{'animal': {'cat', 'dog', ...}, 'food': {'rice', ...}}\n",
                "```"
            ]
        },
        {
            "cell_type": "code",
            "execution_count": null,
            "metadata": {
                "collapsed": true
            },
            "outputs": [],
            "source": [
                "def create_dict(list_words):\n",
                "    pass\n",
                "    ###\n",
                "    ### YOUR CODE HERE\n",
                "    ###\n"
            ]
        },
        {
            "cell_type": "code",
            "execution_count": null,
            "metadata": {
                "collapsed": true,
                "nbgrader": {
                    "grade": true,
                    "grade_id": "Q7",
                    "locked": true,
                    "points": "1",
                    "solution": false
                },
                "editable": false,
                "deletable": false
            },
            "outputs": [],
            "source": [
                "words = [('food', 'apple'), ('food', 'almond'), ('food', 'apricot'), ('food', 'beancurd'), ('food', 'bacon'),\n",
                "         ('food', 'bread'), ('food', 'beans'), ('food', 'broccoli'), ('food', 'cake'), ('food', 'chili'),\n",
                "         ('animal', 'ape'), ('animal', 'ant'), ('animal', 'bat'), ('animal', 'bear'), ('animal', 'cat'),\n",
                "         ('animal', 'dog'), ('animal', 'flea'), ('animal', 'horse'), ('animal', 'lamb'), ('animal', 'leopard'),\n",
                "         ('job', 'baker'), ('job', 'farmer'), ('job', 'builder'), ('job', 'teacher'), ('job', 'pilot'), ('job', 'gardener'),\n",
                "         ('job', 'gardener'), ('job', 'secretary'), ('job', 'salesman'), ('job', 'programmer'), ('job', 'manager')]\n",
                "\n",
                "assert create_dict(words) == {'food': {'apricot', 'cake', 'bacon', 'chili', 'almond', 'beancurd', 'apple', 'bread', 'broccoli', 'beans'}, \n",
                "                              'animal': {'dog', 'bat', 'horse', 'leopard', 'bear', 'ape', 'cat', 'flea', 'lamb', 'ant'}, \n",
                "                              'job': {'pilot', 'programmer', 'manager', 'gardener', 'farmer', 'teacher', 'builder', 'baker', 'secretary', 'salesman'}}"
            ]
        },
        {
            "cell_type": "markdown",
            "metadata": {
                "nbgrader": {
                    "grade": false,
                    "locked": true,
                    "solution": false
                },
                "editable": false,
                "deletable": false
            },
            "source": [
                "**Q8.** *Hangman:* Write a function to get a random word from a dictionary of words given a category. The function should take in three arguments. The first argument is the category to get the random word from and the second argument is the dictionary of the words. The third argument is optional, which is the seed number for the random module. By default the seed argument is set to 100. *Hint: use the random module.*"
            ]
        },
        {
            "cell_type": "code",
            "execution_count": 3,
            "metadata": {
                "collapsed": true
            },
            "outputs": [],
            "source": [
                "import random\n",
                "\n",
                "def get_random_word(category, word_dict, seed=100):\n",
                "    pass\n",
                "    ###\n",
                "    ### YOUR CODE HERE\n",
                "    ###\n"
            ]
        },
        {
            "cell_type": "code",
            "execution_count": 4,
            "metadata": {
                "nbgrader": {
                    "grade": false,
                    "grade_id": "Q8",
                    "locked": false,
                    "points": "1",
                    "solution": false
                }
            },
            "outputs": [],
            "source": [
                "words = {'food': {'apricot', 'cake', 'bacon', 'chili', 'almond', 'beancurd', 'apple', 'bread', 'broccoli', 'beans'}, \n",
                "                              'animal': {'dog', 'bat', 'horse', 'leopard', 'bear', 'ape', 'cat', 'flea', 'lamb', 'ant'}, \n",
                "                              'job': {'pilot', 'programmer', 'manager', 'gardener', 'farmer', 'teacher', 'builder', 'baker', 'secretary', 'salesman'}}\n",
                "\n",
                "\n",
                "print(get_random_word('food', words))\n",
                "print(get_random_word('animal', words))\n",
                "print(get_random_word('animal', words, 200))\n",
                "print(get_random_word('job', words))"
            ]
        },
        {
            "cell_type": "markdown",
            "metadata": {
                "nbgrader": {
                    "grade": false,
                    "locked": true,
                    "solution": false
                },
                "editable": false,
                "deletable": false
            },
            "source": [
                "**Q9.** *Hangman:* Write a function `hidden_word(word)` that takes in a string argument which is the chosen word and returns a tuple. The first element of the tuple is a string of asterix with the same length of the word and the second element is the word itself. For example:\n",
                "```\n",
                "hidden_word('bacon')\n",
                "```\n",
                "should return a tuple:\n",
                "```\n",
                "('*****', 'bacon')\n",
                "```\n"
            ]
        },
        {
            "cell_type": "code",
            "execution_count": null,
            "metadata": {
                "collapsed": true
            },
            "outputs": [],
            "source": [
                "def hidden_word(word):\n",
                "    pass\n",
                "    ###\n",
                "    ### YOUR CODE HERE\n",
                "    ###\n"
            ]
        },
        {
            "cell_type": "code",
            "execution_count": null,
            "metadata": {
                "collapsed": true,
                "nbgrader": {
                    "grade": true,
                    "grade_id": "Q9",
                    "locked": true,
                    "points": "1",
                    "solution": false
                },
                "editable": false,
                "deletable": false
            },
            "outputs": [],
            "source": [
                "assert hidden_word('bacon') == ('*****', 'bacon')\n",
                "assert hidden_word('programmer') == ('**********', 'programmer')\n",
                "assert hidden_word('dog') == ('***', 'dog')"
            ]
        },
        {
            "cell_type": "markdown",
            "metadata": {
                "nbgrader": {
                    "grade": false,
                    "locked": true,
                    "solution": false
                },
                "editable": false,
                "deletable": false
            },
            "source": [
                "**Q10.** *Hangman:* Write a function `check_letter(hidden_word, guess)` which takes in two arguments where the first argument is a tuple in the form of the output of the previous question and the second argument is a single character string. The function should check if the guess character is in the word. If it is, it should return a tuple where the first argument is `True` and the second argument is a tuple of the `hidden_word` with the asterix replaced with the guess words. For example,\n",
                "\n",
                "```\n",
                "check_letter(('**********', 'programmer'), 'r')\n",
                "```\n",
                "should return:\n",
                "```\n",
                "(True, ('*r**r****r', 'programmer')))\n",
                "```\n",
                "If the guess letter is not in the word, it should return `False` and the tuple unchanged. For example,\n",
                "```\n",
                "check_letter(('**********', 'programmer'), 'q')\n",
                "```\n",
                "should return:\n",
                "```\n",
                "(False, ('**********', 'programmer')))\n",
                "```\n"
            ]
        },
        {
            "cell_type": "code",
            "execution_count": null,
            "metadata": {
                "collapsed": true
            },
            "outputs": [],
            "source": [
                "def check_letter(hidden_word, guess):\n",
                "    pass\n",
                "    ###\n",
                "    ### YOUR CODE HERE\n",
                "    ###\n"
            ]
        },
        {
            "cell_type": "code",
            "execution_count": null,
            "metadata": {
                "collapsed": true,
                "nbgrader": {
                    "grade": true,
                    "grade_id": "Q10",
                    "locked": true,
                    "points": "1",
                    "solution": false
                },
                "editable": false,
                "deletable": false
            },
            "outputs": [],
            "source": [
                "assert check_letter(('**********', 'programmer'), 'r') == (True, ('*r**r****r', 'programmer'))\n",
                "assert check_letter(('*r**r****r', 'programmer'), 'm') == (True, ('*r**r*mm*r', 'programmer'))\n",
                "assert check_letter(('*r**r*mm*r', 'programmer'), 'p') == (True, ('pr**r*mm*r', 'programmer'))\n"
            ]
        }
    ],
    "metadata": {
        "kernelspec": {
            "display_name": "Python 3.7",
            "language": "python",
            "name": "python3"
        },
        "language_info": {
            "codemirror_mode": {
                "name": "ipython",
                "version": 3
            },
            "file_extension": ".py",
            "mimetype": "text\/x-python",
            "name": "python",
            "nbconvert_exporter": "python",
            "pygments_lexer": "ipython3",
            "version": "3.7.5"
        }
    },
    "nbformat": 4,
    "nbformat_minor": 4
}