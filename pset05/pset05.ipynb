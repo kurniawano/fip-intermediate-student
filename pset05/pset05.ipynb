{
    "cells": [
        {
            "cell_type": "markdown",
            "metadata": {
                "nbgrader": {
                    "grade": false,
                    "locked": true,
                    "solution": false
                },
                "editable": false,
                "deletable": false
            },
            "source": [
                "# Problem Set 5"
            ]
        },
        {
            "cell_type": "markdown",
            "metadata": {
                "nbgrader": {
                    "grade": false,
                    "locked": true,
                    "solution": false
                },
                "editable": false,
                "deletable": false
            },
            "source": [
                "**Q1.** *Sorting: Insertion Sort.* Write a function to do insertion sort for a list of numbers. Check: [Wikipedia's article on Insertion Sort](https:\/\/en.wikipedia.org\/wiki\/Insertion_sort). Measure the computation for a random list with size: 10, 100, 1000, 10 000, and 100 000. Store the time taken in a list and plot a graph of time taken versus the number of items in the list. "
            ]
        },
        {
            "cell_type": "code",
            "execution_count": 3,
            "metadata": {
                "collapsed": true
            },
            "outputs": [],
            "source": [
                "import random\n",
                "import timeit\n",
                "import copy\n",
                "import math\n",
                "\n",
                "def insertion_sort(list_items):\n",
                "    ###\n",
                "    ### YOUR CODE HERE\n",
                "    ###\n",
                "    pass\n",
                "\n"
            ]
        },
        {
            "cell_type": "code",
            "execution_count": 4,
            "metadata": {
                "collapsed": true,
                "nbgrader": {
                    "grade": true,
                    "grade_id": "Q1",
                    "locked": true,
                    "points": "2",
                    "solution": false
                },
                "editable": false,
                "deletable": false
            },
            "outputs": [],
            "source": [
                "\n",
                "assert insertion_sort([54, 26, 93, 17, 77, 31, 44, 55, 20]) == [17, 20, 26, 31, 44, 54, 55, 77, 93]\n"
            ]
        },
        {
            "cell_type": "code",
            "execution_count": 5,
            "metadata": {
                "nbgrader": {
                    "grade": false,
                    "locked": true,
                    "solution": false
                },
                "editable": false,
                "deletable": false
            },
            "outputs": [
                {
                    "name": "stdout",
                    "output_type": "stream",
                    "text": [
                        "[8.499999999855845e-06, 0.00033839999999685233, 0.048735700000001714, 3.8915729999999975]\n"
                    ]
                }
            ],
            "source": [
                "\n",
                "preparation_insertion = \"\"\"\n",
                "import random\n",
                "from __main__ import insertion_sort\n",
                "\"\"\"\n",
                "\n",
                "\n",
                "data =\"\"\"\n",
                "items = list(range({}))\n",
                "random.shuffle(items)\n",
                "\"\"\"\n",
                "\n",
                "preparation_sort = \"\"\"\n",
                "import random\n",
                "\"\"\"\n",
                "x_axis = [10**n for n in range(1,5)]\n",
                "data_list = [data.format(x) for x in x_axis]\n",
                "\n",
                "insertion_time = []\n",
                "\n",
                "for x in range(len(x_axis)):\n",
                "\tt = timeit.Timer(\"insertion_sort(items)\",preparation_insertion + data_list[x])\n",
                "\tinsertion_time.append(t.timeit(number=1))\n",
                "\n",
                "print(insertion_time)\n",
                "\n"
            ]
        },
        {
            "cell_type": "code",
            "execution_count": 6,
            "metadata": {
                "nbgrader": {
                    "grade": false,
                    "locked": true,
                    "solution": false
                },
                "editable": false,
                "deletable": false
            },
            "outputs": [
                {
                    "data": {
                        "text\/plain": [
                            "<Figure size 640x480 with 2 Axes>"
                        ]
                    },
                    "metadata": {},
                    "output_type": "display_data"
                }
            ],
            "source": [
                "\n",
                "import matplotlib.pyplot as plt\n",
                "plt.subplot(2,1,1)\n",
                "plt.plot(x_axis,insertion_time,'o-')\n",
                "\n",
                "plt.subplot(2,1,2)\n",
                "x2_axis = [x*x for x in x_axis]\n",
                "plt.plot(x2_axis,insertion_time,'o-')\n",
                "\n",
                "plt.show()"
            ]
        },
        {
            "cell_type": "markdown",
            "metadata": {
                "nbgrader": {
                    "grade": false,
                    "locked": true,
                    "solution": false
                },
                "editable": false,
                "deletable": false
            },
            "source": [
                "**Q2.** *Computation Time* Do the same time measurement using Python's built-in function, i.e. `sorted()`. Plot a graph of time taken versus the number of items in the list."
            ]
        },
        {
            "cell_type": "code",
            "execution_count": 7,
            "metadata": {
                "nbgrader": {
                    "grade": false,
                    "locked": true,
                    "solution": false
                },
                "editable": false,
                "deletable": false
            },
            "outputs": [
                {
                    "name": "stdout",
                    "output_type": "stream",
                    "text": [
                        "[1.900000000887303e-06, 6.8000000013057615e-06, 8.740000000173609e-05, 0.0018689999999992324]\n"
                    ]
                }
            ],
            "source": [
                "import random\n",
                "import timeit\n",
                "import copy\n",
                "import math\n",
                "\n",
                "preparation_insertion = \"\"\"\n",
                "import random\n",
                "\"\"\"\n",
                "\n",
                "\n",
                "data =\"\"\"\n",
                "items = list(range({}))\n",
                "random.shuffle(items)\n",
                "\"\"\"\n",
                "\n",
                "preparation_sort = \"\"\"\n",
                "import random\n",
                "\"\"\"\n",
                "x_axis = [10**n for n in range(1,5)]\n",
                "data_list = [data.format(x) for x in x_axis]\n",
                "\n",
                "sort_time = []\n",
                "\n",
                "for x in range(len(x_axis)):\n",
                "\tt = timeit.Timer(\"sorted(items)\",preparation_sort + data_list[x])\n",
                "\tsort_time.append(t.timeit(number=1))\n",
                "\n",
                "print(sort_time)\n",
                "\n"
            ]
        },
        {
            "cell_type": "code",
            "execution_count": 8,
            "metadata": {
                "nbgrader": {
                    "grade": false,
                    "locked": true,
                    "solution": false
                },
                "editable": false,
                "deletable": false
            },
            "outputs": [
                {
                    "data": {
                        "image\/png": "[encoded data removed]",
                        "text\/plain": [
                            "<Figure size 432x288 with 1 Axes>"
                        ]
                    },
                    "metadata": {
                        "needs_background": "light"
                    },
                    "output_type": "display_data"
                }
            ],
            "source": [
                "\n",
                "plt.plot(x_axis,sort_time,'o-')\n",
                "plt.show()"
            ]
        },
        {
            "cell_type": "markdown",
            "metadata": {
                "nbgrader": {
                    "grade": false,
                    "locked": true,
                    "solution": false
                },
                "editable": false,
                "deletable": false
            },
            "source": [
                "**Q3.** *Asymptotic Notation.* Modify the x-axis so that you can get a linear graph for both insertion sort and Python's sort computation time. \n"
            ]
        },
        {
            "cell_type": "code",
            "execution_count": 9,
            "metadata": {
                "nbgrader": {
                    "grade": false,
                    "locked": true,
                    "solution": false
                },
                "editable": false,
                "deletable": false
            },
            "outputs": [
                {
                    "data": {
                        "image\/png": "[encoded data removed]",
                        "text\/plain": [
                            "<Figure size 432x288 with 1 Axes>"
                        ]
                    },
                    "metadata": {
                        "needs_background": "light"
                    },
                    "output_type": "display_data"
                }
            ],
            "source": [
                "\n",
                "xlogx_axis =[x*math.log(x) for x in x_axis]\n",
                "plt.plot(xlogx_axis,sort_time,'o-')\n",
                "plt.show()"
            ]
        }
    ],
    "metadata": {
        "kernelspec": {
            "display_name": "Python 3.7",
            "language": "python",
            "name": "python3"
        },
        "language_info": {
            "codemirror_mode": {
                "name": "ipython",
                "version": 3
            },
            "file_extension": ".py",
            "mimetype": "text\/x-python",
            "name": "python",
            "nbconvert_exporter": "python",
            "pygments_lexer": "ipython3",
            "version": "3.7.5"
        }
    },
    "nbformat": 4,
    "nbformat_minor": 4
}