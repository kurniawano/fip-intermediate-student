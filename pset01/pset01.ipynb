{
 "cells": [
  {
   "cell_type": "markdown",
   "metadata": {},
   "source": [
    "# Fundamentals in Python (Intermediate) - Problem Set 1"
   ]
  },
  {
   "cell_type": "markdown",
   "metadata": {},
   "source": [
    "**Q1**. *Values and Data Types:* What are the outputs of the following statements? \n",
    "\n",
    "- `print(type(\"This is the first Week!\"))`\n",
    "- `print(\"This is the first Week!\")`\n",
    "- `print(type(24))`\n",
    "- `print(24)`\n",
    "- `print(type(2.4))`\n",
    "- `print(2.4)`\n",
    "- `print(type(\"24\"))`\n",
    "- `print(\"24\")`\n",
    "- `print(type(\"\"\"2.4\"\"\"))`\n",
    "- `print(type('''2.4'''))`\n",
    "- `print(10300)`\n",
    "- `print(10,300)`\n",
    "- `print(10.300)`\n",
    "- `print(type(10.300))`"
   ]
  },
  {
   "cell_type": "code",
   "execution_count": null,
   "metadata": {},
   "outputs": [],
   "source": [
    "# Try it here\n"
   ]
  },
  {
   "cell_type": "markdown",
   "metadata": {},
   "source": [
    "**Q2.** *Type conversion:* What are the outputs of the following\n",
    "  statements? \n",
    "- `print(int(1.1))`\n",
    "- `print(int(9.81))`\n",
    "- `print(int(-9.81))`\n",
    "- `print(int(\"9.81\"))`\n",
    "- `print(int(\"9.81m/s2\"))`\n",
    "- `print(float(\"9.81\"))`\n",
    "- `print(str(9.81))`\n",
    "- `print(type(str(9.81)))`\n",
    "- `print(str(int(9.81)))`\n",
    "- `print(type(str(int(9.81))))`"
   ]
  },
  {
   "cell_type": "code",
   "execution_count": null,
   "metadata": {},
   "outputs": [],
   "source": [
    "# Try it here\n"
   ]
  },
  {
   "cell_type": "markdown",
   "metadata": {},
   "source": [
    "**Q3.** *Variables:* Given a Python script as follows.\n",
    "```python\n",
    "1 message = \"What's up, Doc?\"\n",
    "2 n = 17\n",
    "3 pi = 3.14159\n",
    "4 pi = 3.14\n",
    "5\n",
    "6 print(message)\n",
    "7 print(n)\n",
    "8 print(pi)\n",
    "```\n",
    "\n",
    "When the program is run for the first time, what is the value of `pi` when the *program counter* is at:\n",
    "- line 2\n",
    "- line 3\n",
    "- line 4\n",
    "- line 5\n",
    "\n",
    "What is the type of:\n",
    "    \n",
    "- variable `message`\n",
    "- variable `n`\n",
    "- variable `pi`\n",
    "\n"
   ]
  },
  {
   "cell_type": "code",
   "execution_count": null,
   "metadata": {},
   "outputs": [],
   "source": []
  },
  {
   "cell_type": "markdown",
   "metadata": {},
   "source": [
    "**Q4.** *Variable Names:* Check whether the following variable names\n",
    "  are valid:\n",
    "  \n",
    "- `23days`\n",
    "- `days23`\n",
    "- `day 23`\n",
    "- `mymoney2`\n",
    "- `mymoney$`\n",
    "- `myclass`\n",
    "- `class`\n",
    "- `my_grade`\n",
    "- `my_grade_is_B+`"
   ]
  },
  {
   "cell_type": "code",
   "execution_count": null,
   "metadata": {},
   "outputs": [],
   "source": [
    "# Try it here\n"
   ]
  },
  {
   "cell_type": "markdown",
   "metadata": {},
   "source": [
    "**Q5.** *Custom Data Type:* Given a Python script as follows.\n",
    "\n",
    "```python\n",
    "1 class Coordinate:\n",
    "2     pass\n",
    "3\n",
    "4 p1 = Coordinate()\n",
    "5 p1.x = -1.0\n",
    "6 p1.y = 0.5\n",
    "7 p2 = Coordinate()\n",
    "8 p2.x = 0.3\n",
    "9 p2.y = 1.0\n",
    "```\n",
    "\n",
    "What's the output when executing the following statements?\n",
    "- `print(type(p1))`\n",
    "- `print(type(p2))`\n",
    "- `print(type(Coordinate))`\n",
    "- `print(p1.x, p1.y)`\n",
    "- `print(p2.x, p2.y)`"
   ]
  },
  {
   "cell_type": "code",
   "execution_count": null,
   "metadata": {},
   "outputs": [],
   "source": [
    "# Try it here\n"
   ]
  },
  {
   "cell_type": "markdown",
   "metadata": {},
   "source": [
    "**Q6.** *Operators and Operands:* What are the outputs of the\n",
    "  following statements?\n",
    "  \n",
    "- `print(5 + 3)`\n",
    "- `print(5 - 3)`\n",
    "- `print(5 * 3)`\n",
    "- `print(5 ** 3)`\n",
    "- `print(5 / 3)`\n",
    "- `print(5 // 3)`\n",
    "- `print(5 % 3)`\n"
   ]
  },
  {
   "cell_type": "code",
   "execution_count": null,
   "metadata": {},
   "outputs": [],
   "source": [
    "# Try it here\n"
   ]
  },
  {
   "cell_type": "markdown",
   "metadata": {},
   "source": [
    "**Q7.** *Operator Precedence:* What are the outputs of the following\n",
    "  expressions? \n",
    "  \n",
    "- `17 - 3 * 7 // 4 + 1`\n",
    "- `2 ** 2 ** 4 * 3`"
   ]
  },
  {
   "cell_type": "markdown",
   "metadata": {},
   "source": [
    "**Q8.** *Updating Variables:* Write the following code in a Python\n",
    "  script file. What are the outputs of the following\n",
    "  code? \n",
    "\n",
    "code 1:\n",
    "```python\n",
    "x = 3\n",
    "print(x,end=' ')\n",
    "x = x + 2\n",
    "print(x)\n",
    "```\n",
    "code 2:\n",
    "```python\n",
    "x = 3\n",
    "print(x,end=' ')\n",
    "x -= 2\n",
    "print(x)\n",
    "```\n",
    "code 3:\n",
    "```python\n",
    "x = 3\n",
    "print(x,end=' ')\n",
    "x *= 2\n",
    "print(x)\n",
    "```"
   ]
  },
  {
   "cell_type": "code",
   "execution_count": null,
   "metadata": {},
   "outputs": [],
   "source": [
    "# Try it here\n"
   ]
  },
  {
   "cell_type": "markdown",
   "metadata": {},
   "source": [
    "**Q9.** *Flowcharts and Pseudocode:* Draw flowcharts or write a\n",
    "  Pseudocode for the following\n",
    "  programs. \n",
    "\n",
    "1. The program takes input of a student name, his or her student\n",
    "  id, and his marks for a quiz, a project, and a final paper. The\n",
    "  program then computes the average of the mark and displays the\n",
    "  student's information and the average mark on the\n",
    "  screen.\n",
    "\n",
    "1. The program takes input of a student name, his or her student\n",
    "  id, and his marks for a quiz, a project, and a final paper. The\n",
    "  program then computes the average of the mark and determines whether\n",
    "  the student pass or fail. If the average is equal to or greater than\n",
    "  50, the student passes, otherwise he fails. The program then displays the student's\n",
    "  information, the average mark, and the status pass or fail on the\n",
    "  screen.\n",
    "\n",
    "1. The program takes input of a student name, his or her student\n",
    "  id, and his marks for a quiz, a project, and a final paper. The\n",
    "  program then computes the average of the mark and determines the\n",
    "  grade of the students according to the following rules:\n",
    "  \n",
    "    - if average mark is greater or equal to 90, the grade is 'A'.\n",
    "    - if average mark is greater or equal to 80 but less than 90,\n",
    "      the grade is 'B'.\n",
    "    - if average mark is greater or equal to 70 but less than 80,\n",
    "      the grade is 'C'.\n",
    "    - if average mark is greater or equal to 60 but less than 70,\n",
    "      the grade is 'D'.\n",
    "    - if average mark is less than 60, the grade is 'F'.\n",
    "    \n",
    "  The program then displays the student's information, the average\n",
    "  mark, and the letter grade on the screen.\n",
    "\n",
    "1. The program takes input of a student name, his or her student\n",
    "  id, and his marks for a quiz, a project, and a final paper. The\n",
    "  program then computes the average of the mark and determines the\n",
    "  grade of the students according to the following rules:\n",
    "  \n",
    "    - if average mark is greater or equal to 90, the grade is 'A'.\n",
    "    - if average mark is greater or equal to 80 but less than 90,\n",
    "      the grade is 'B'.\n",
    "    - if average mark is greater or equal to 70 but less than 80,\n",
    "      the grade is 'C'.\n",
    "    - if average mark is greater or equal to 60 but less than 70,\n",
    "      the grade is 'D'.\n",
    "    - if average mark is less than 60, the grade is 'F'.\n",
    "    \n",
    "  The program then displays the student's information, the average\n",
    "  mark, and the letter grade on the screen. Do this for 40 students in\n",
    "  a class.\n",
    "\n",
    "End of Problem Set 1.\n"
   ]
  },
  {
   "cell_type": "code",
   "execution_count": null,
   "metadata": {},
   "outputs": [],
   "source": []
  }
 ],
 "metadata": {
  "kernelspec": {
   "display_name": "Python 3",
   "language": "python",
   "name": "python3"
  },
  "language_info": {
   "codemirror_mode": {
    "name": "ipython",
    "version": 3
   },
   "file_extension": ".py",
   "mimetype": "text/x-python",
   "name": "python",
   "nbconvert_exporter": "python",
   "pygments_lexer": "ipython3",
   "version": "3.7.4"
  }
 },
 "nbformat": 4,
 "nbformat_minor": 4
}
