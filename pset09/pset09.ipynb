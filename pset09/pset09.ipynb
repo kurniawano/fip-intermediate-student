{
 "cells": [
  {
   "cell_type": "markdown",
   "metadata": {},
   "source": [
    "# Problem Set 9"
   ]
  },
  {
   "cell_type": "markdown",
   "metadata": {},
   "source": [
    "**Q1.** *Classes and Methods: Make a Coordinate class.* Implement a class named `Coordinate` that represents a coordinate of a point in two dimensional space. The class has two attributes: $x$ and $y$. It also has several methods:\n",
    "\n",
    "- `__init__(self, x=0, y=0)` : This method takes in $x$ and\n",
    "  $y$ to initialize the attributes. If $x$ and $y$ are not provided, the attributes are initialized to 0.\n",
    "- `magnitude(self)`: This method returns the magnitude, which is defined as $\\sqrt{x^2+y^2}$.\n",
    "- `translate(self, dx, dy)`: This method translates the coordinate by `dx` and `dy` so that it now represents the coordinate `(x + dx, y + dy)`.\n",
    "- `__eq__(self, other)`: This method takes another coordinate object and returns `True` or `False` depending on whether this coordinate specifies the same point in space as the other.\n",
    "\n",
    "A sample interactive session using class `Coordinate` is shown below.\n",
    "\n",
    "```python\n",
    ">>> p = Coordinate()\n",
    ">>> print(p.x, p.y)\n",
    "0 0\n",
    ">>> print(p.magnitude())\n",
    "0.0\n",
    ">>> p.x = 3\n",
    ">>> p.y = 4\n",
    ">>> print(p.magnitude())\n",
    "5.0\n",
    ">>> q = Coordinate(3,4)\n",
    ">>> print(p == q)\n",
    ">>> True\n",
    ">>> q.translate(1, 2)\n",
    ">>> print(q.x)\n",
    "4\n",
    ">>> print(p == q)\n",
    ">>> False\n",
    "```"
   ]
  },
  {
   "cell_type": "code",
   "execution_count": 1,
   "metadata": {},
   "outputs": [],
   "source": [
    "class Coordinate:\n",
    "    def __init__(self, x=0, y=0):\n",
    "        pass\n",
    "\n",
    "    def magnitude(self):\n",
    "        pass\n",
    "\n",
    "    def translate(self, dx, dy):\n",
    "        pass\n",
    "\n",
    "    def __eq__(self, other):\n",
    "        pass\n",
    "\n",
    "p = Coordinate()\n",
    "assert (p.x, p.y) == (0, 0)\n",
    "assert p.magnitude() == 0.0\n",
    "p.x = 3\n",
    "p.y = 4\n",
    "assert p.magnitude() == 5.0\n",
    "q = Coordinate(3, 4)\n",
    "assert (p == q)\n",
    "q.translate(1, 2)\n",
    "assert q.x == 4\n",
    "assert (p != q)\n"
   ]
  },
  {
   "cell_type": "markdown",
   "metadata": {},
   "source": [
    "**Q2.** Create a class called `Fraction` to represent a simple fraction. The class has two properties:\n",
    "- `num`: which represents a numerator and of the type Integer.\n",
    "- `den`: which represents a denominator and of the type Integer. Denominator should not be a zero.\n",
    "\n",
    "The class should have the following method:\n",
    "- `__init__(num, den)`: to initialize the numerator and the denominator. You should check if the denominator is zero. If it is you should assign `1` as the denominator instead. \n",
    "- `__str__()`:  for the object instance to be convertable to String.  You need to return a string in a format of `num/den`\n"
   ]
  },
  {
   "cell_type": "code",
   "execution_count": 2,
   "metadata": {},
   "outputs": [],
   "source": [
    "class Fraction:\n",
    "  def __init__(self, num, den):\n",
    "    pass\n",
    "  \n",
    "  def __str__(self):\n",
    "    pass\n",
    "\n",
    "  #den = property(get_den, set_den)\n",
    "  #num = property(get_num, set_num)"
   ]
  },
  {
   "cell_type": "code",
   "execution_count": 3,
   "metadata": {},
   "outputs": [],
   "source": [
    "f0 = Fraction(0, 1)\n",
    "assert f0.num == 0\n",
    "assert f0.den == 1\n",
    "assert str(f0) == \"0/1\"\n",
    "\n",
    "f1 = Fraction(1, 2)\n",
    "assert f1.num == 1\n",
    "assert f1.den == 2\n",
    "assert str(f1) == \"1/2\"\n",
    "\n",
    "f1.num = 3\n",
    "f1.den = 4\n",
    "assert str(f1) == \"3/4\"\n",
    "\n"
   ]
  },
  {
   "cell_type": "markdown",
   "metadata": {},
   "source": [
    "**Q3.** Extend the class `Fraction` to support the following operator: `+` and `==`. To do this, you need to overload the following operator:\n",
    "- `__add__(self, other)`\n",
    "- `__eq__(self, other)`\n",
    "\n",
    "You may want to write a method to simplify a fraction:\n",
    "- `simplify()`: which simplify a fraction to its lowest terms. To simplify a fraction divide both the numerator and the denominator with the greatest common divisor of the the two. This method should return a new `Fraction` object.\n",
    "\n",
    "Hint:\n",
    "- [Algorithm to calculate GCD](https://medium.com/@sourajeetm717/euclids-gcd-method-iterative-and-recursive-6ee32935bcc8)\n"
   ]
  },
  {
   "cell_type": "code",
   "execution_count": 4,
   "metadata": {},
   "outputs": [],
   "source": [
    "def gcd(a, b):\n",
    "  pass\n",
    "\n",
    "\n",
    "class Fraction:\n",
    "  pass"
   ]
  },
  {
   "cell_type": "code",
   "execution_count": 5,
   "metadata": {},
   "outputs": [],
   "source": [
    "f1 = Fraction(1, 2)\n",
    "f2 = Fraction(2, 3)\n",
    "f3 = f1 + f2 \n",
    "\n",
    "assert str(f3) == \"7/6\"\n",
    "\n",
    "f4 = Fraction(3, 5)\n",
    "f5 = Fraction(1, 3)\n",
    "f6 = f4 + f5 \n",
    "\n",
    "assert str(f6) == \"14/15\"\n",
    "\n",
    "f1 = Fraction(1, 2)\n",
    "f2 = Fraction(2, 4)\n",
    "assert f1 == f2\n",
    "\n",
    "f3 = Fraction(2, 3)\n",
    "f4 = Fraction(2, 4)\n",
    "assert f3 != f4"
   ]
  },
  {
   "cell_type": "markdown",
   "metadata": {},
   "source": [
    "**Q4.** Extend the class `Fraction` to implement the other operators: `- * < <= > >=`."
   ]
  },
  {
   "cell_type": "code",
   "execution_count": 6,
   "metadata": {},
   "outputs": [],
   "source": [
    "def gcd(a, b):\n",
    "  pass\n",
    "\n",
    "\n",
    "class Fraction:\n",
    "  pass"
   ]
  },
  {
   "cell_type": "code",
   "execution_count": 7,
   "metadata": {},
   "outputs": [],
   "source": [
    "f1 = Fraction(3, 4)\n",
    "f2 = Fraction(1, 2)\n",
    "f3 = f1 - f2\n",
    "assert f3 == Fraction(1, 4)\n",
    "f4 = f1 * f2\n",
    "assert f4 == Fraction(3, 8)\n",
    "assert f2 < f1\n",
    "assert f2 <= f2\n",
    "assert f1 > f3\n",
    "assert f3 >= f3"
   ]
  },
  {
   "cell_type": "markdown",
   "metadata": {},
   "source": [
    "**Q5.** *Stack:* Create a class for Stack Abstract Data Type (ADT). The ADT should support the following:\n",
    "\n",
    "- `push(item)` : to push item into the stack.\n",
    "- `pop()`: to pop the item at the top of the stack. The function should return the item at the top of the stack.\n",
    "- `top()`: to return the item at the top of the stack. The item, however, is not popped out, so it remains in the stack.\n",
    "- `empty()`: to check whether the stack is empty or not. It returns a boolean value.\n",
    "- `size()`: to return the size of the stack.\n",
    "\n",
    "Design your own test cases."
   ]
  },
  {
   "cell_type": "code",
   "execution_count": 1,
   "metadata": {},
   "outputs": [],
   "source": [
    "class Stack:\n",
    "    pass\n",
    "\n"
   ]
  },
  {
   "cell_type": "code",
   "execution_count": 2,
   "metadata": {},
   "outputs": [],
   "source": [
    "s = Stack()\n",
    "assert s._data == []\n",
    "\n",
    "s.push(3)\n",
    "assert s._data == [3]\n",
    "\n",
    "s.push(5)\n",
    "assert s._data == [3, 5]\n",
    "\n",
    "assert s.pop() == 5\n",
    "\n",
    "assert s._data == [3]\n",
    "\n",
    "s.push(11)\n",
    "s.push(13)\n",
    "\n",
    "assert s.top == 13\n",
    "\n",
    "assert not s.empty\n",
    "\n",
    "assert s.size == 3"
   ]
  },
  {
   "cell_type": "markdown",
   "metadata": {},
   "source": [
    "**Q6.** *Stack: Postfix.* Create a class called `Postfix` that stores a postfix expression and is able to evaluate such expression. The postfix expression is initialized during object instantiation. It should have at least one method called `evaluate()` which evaluates the current postfix expression and returns the result. \n",
    "\n",
    "```python\n",
    ">>> p = Postfix('7 8 + 3 2 + /')\n",
    "\n",
    ">>> assert p.evaluate() == 3\n",
    "\n",
    ">>> p = Postfix('1 2 + 3 *')\n",
    "\n",
    ">>> assert p.evaluate() == 9\n",
    "```"
   ]
  },
  {
   "cell_type": "code",
   "execution_count": 3,
   "metadata": {},
   "outputs": [],
   "source": [
    "class Postfix:\n",
    "    operand = '0123456789'\n",
    "\n",
    "    def __init__(self, expr = ''):\n",
    "        pass\n",
    "\n",
    "    def evaluate(self):\n",
    "        pass\n",
    "    \n",
    "    def eval_math(self, operator, left, right):\n",
    "        pass\n"
   ]
  },
  {
   "cell_type": "code",
   "execution_count": 4,
   "metadata": {},
   "outputs": [],
   "source": [
    "p = Postfix('7 8 + 3 2 + /')\n",
    "\n",
    "assert p._expr == '7 8 + 3 2 + /'\n",
    "\n",
    "assert p.evaluate() == 3\n",
    "\n",
    "p = Postfix('1 2 + 3 *')\n",
    "\n",
    "assert p.evaluate() == 9"
   ]
  },
  {
   "cell_type": "markdown",
   "metadata": {},
   "source": [
    "**Q7.** *Queue:* Create a class for Queue Abstract Data Type (ADT). The ADT should support the following:\n",
    "\n",
    "- `put(item)`: to enqueue the item into the queue.\n",
    "- `get()`: to remove the item at the beginning of the queue. The function should return the item.\n",
    "- `empty()`: to check whether the queue is empty or not. It returns a boolean value.\n",
    "- `qsize()`: to return the size of the queue.\n"
   ]
  },
  {
   "cell_type": "code",
   "execution_count": 5,
   "metadata": {},
   "outputs": [],
   "source": [
    "class Queue:\n",
    "    pass"
   ]
  },
  {
   "cell_type": "code",
   "execution_count": 6,
   "metadata": {},
   "outputs": [],
   "source": [
    "\n",
    "q = Queue()\n",
    "\n",
    "assert q._data == []\n",
    "\n",
    "q.put(3)\n",
    "q.put(5)\n",
    "assert q._data == [3, 5]\n",
    "assert not q.empty()\n",
    "assert q.qsize() == 2\n",
    "\n",
    "assert q.get() == 3\n",
    "assert q.get() == 5\n",
    "assert q.empty()\n"
   ]
  },
  {
   "cell_type": "markdown",
   "metadata": {},
   "source": [
    "**Q8.** *Queue: Radix Sorting Machine.* Implement a radix sorting machine. A radix sort for base 10 integers is a mechanical sorting technique that utilizes a collection of bins, one main bin and 10 digit bins. Each bin acts like a queue and maintains its values in the order that they arrive. The algorithm begins by placing each number in the main bin. Then it considers each value digit by digit. The first value is removed and placed in a digit bin corresponding to the digit being considered. For example, if the ones digit is being considered, 534 is placed in digit bin 4 and 667 is placed in digit bin 7. Once all the values are placed in the corresponding digit bins, the values are collected from bin 0 to bin 9 and placed back in the main bin. The process continues with the tens digit, the hundreds, and so on. After the last digit is processed, the main bin contains the values in order.\n",
    "\n",
    "```python\n",
    ">>> items = [154, 26, 293, 17, 377, 31, 444, 55, 620, 65]\n",
    ">>> result = radix_sort(items)\n",
    ">>> resultlist = [result.get() for x in range(result.qsize())]\n",
    ">>> assert resultlist == [17, 26, 31, 55, 65, 154, 293, 377, 444, 620]\n",
    "```"
   ]
  },
  {
   "cell_type": "code",
   "execution_count": 8,
   "metadata": {},
   "outputs": [],
   "source": [
    "def radix_sort(items):\n",
    "    pass\n",
    "\n"
   ]
  },
  {
   "cell_type": "code",
   "execution_count": 9,
   "metadata": {},
   "outputs": [
    {
     "name": "stdout",
     "output_type": "stream",
     "text": [
      "[17, 20, 26, 31, 44, 54, 55, 65, 77, 93]\n"
     ]
    }
   ],
   "source": [
    "\n",
    "items = [54, 26, 93, 17, 77, 31, 44, 55, 20, 65]\n",
    "result = radix_sort(items)\n",
    "resultlist = [result.get() for x in range(result.qsize())]\n",
    "print(resultlist)\n",
    "assert  resultlist == [17, 20, 26, 31, 44, 54, 55, 65, 77, 93]\n",
    "\n",
    "items = [154, 26, 293, 17, 377, 31, 444, 55, 620, 65]\n",
    "result = radix_sort(items)\n",
    "resultlist = [result.get() for x in range(result.qsize())]\n",
    "assert resultlist == [17, 26, 31, 55, 65, 154, 293, 377, 444, 620]"
   ]
  },
  {
   "cell_type": "markdown",
   "metadata": {},
   "source": [
    "**Q9.** *Deque:* Create a class for Deque Abstract Data Type (ADT). The ADT should support the following:\n",
    "\n",
    "- `append(item)`: to add item from the end (right).\n",
    "- `append_left(item)`: to add item from the front (left).\n",
    "- `pop()`: to remove the item at the end (right). The function should return the item.\n",
    "- `pop_left()`: to remove the item at the front (left). The function should return the item.\n",
    "- `__len__()`: to return the number of elements in deque.\n"
   ]
  },
  {
   "cell_type": "code",
   "execution_count": 10,
   "metadata": {},
   "outputs": [],
   "source": [
    "class Deque:\n",
    "    pass\n"
   ]
  },
  {
   "cell_type": "code",
   "execution_count": 11,
   "metadata": {},
   "outputs": [],
   "source": [
    "\n",
    "d = Deque()\n",
    "assert len(d) == 0\n",
    "\n",
    "d.append(1)\n",
    "d.append(2)\n",
    "d.append_left(0)\n",
    "assert [d.pop_left() for x in range(len(d))] == [0, 1, 2]\n",
    "assert len(d) == 0\n",
    "\n",
    "d.append_left(3)\n",
    "d.append_left(2)\n",
    "d.append_left(1)\n",
    "d.append(4)\n",
    "assert [d.pop() for x in range(len(d))] == [4, 3, 2, 1]\n"
   ]
  },
  {
   "cell_type": "markdown",
   "metadata": {},
   "source": [
    "**Q10.** *Deque: Palindrome* Redo Palindrome problem using Deque. "
   ]
  },
  {
   "cell_type": "code",
   "execution_count": 12,
   "metadata": {},
   "outputs": [],
   "source": [
    "\n",
    "def palindrome(string):\n",
    "    pass"
   ]
  },
  {
   "cell_type": "code",
   "execution_count": 13,
   "metadata": {},
   "outputs": [],
   "source": [
    "\n",
    "assert palindrome('a')\n",
    "assert palindrome('aa')\n",
    "assert not palindrome('ab')\n",
    "assert palindrome('123321')\n",
    "assert palindrome('1234321')\n"
   ]
  },
  {
   "cell_type": "markdown",
   "metadata": {},
   "source": [
    "**Q11.** *(Optional) Classes: Minesweeper.* Create a console based Minsweeper game. You should use object oriented design to implement this game. The program should prompt users for the commands to be executed. There are three kinds of commands: 1) open, 2) flag, 3) quit. The quit command is executed by typing `quit` in the prompt. The open and flag command has the following syntax `[o|f][row][col]`. For example, to open row A col 3, you type:\n",
    "\n",
    "```python\n",
    "oa3 # or OA3, it should be case insensitive\n",
    "```\n",
    "\n",
    "and to flag row B col 31, you type:\n",
    "\n",
    "```python\n",
    "fB31 # or Fb31, it should be case insensitive\n",
    "```\n",
    "\n",
    "![State of game when lost with 26 rows and 30 cols.](https://www.dropbox.com/s/gvmvr5sr9ohf9fm/minesw_lost.png?raw=1)\n",
    "Figure 1. State of game when lost with 26 rows and 30 cols.\n",
    "\n",
    "![State of game when lost with 8 rows and 8 cols.](https://www.dropbox.com/s/4xmuc03ec35ik3g/minesw_win.png?raw=1)\n",
    "Figure 2. State of game when lost with 8 rows and 8 cols.\n"
   ]
  },
  {
   "cell_type": "code",
   "execution_count": 9,
   "metadata": {},
   "outputs": [
    {
     "name": "stdout",
     "output_type": "stream",
     "text": [
      "   0  1  2  3  4  5  6  7 \n",
      "A  _  _  _  _  _  _  _  _  \n",
      "B  _  _  _  _  _  _  _  _  \n",
      "C  _  _  _  _  _  _  _  _  \n",
      "D  _  _  _  _  _  _  _  _  \n",
      "E  _  _  _  _  _  _  _  _  \n",
      "F  _  _  _  _  _  _  _  _  \n",
      "G  _  _  _  _  _  _  _  _  \n",
      "H  _  _  _  _  _  _  _  _  \n",
      "\n",
      "Unopened:  64\n"
     ]
    },
    {
     "name": "stdin",
     "output_type": "stream",
     "text": [
      "Enter command: oA0\n"
     ]
    },
    {
     "name": "stdout",
     "output_type": "stream",
     "text": [
      "   0  1  2  3  4  5  6  7 \n",
      "A  1  _  _  _  _  _  _  _  \n",
      "B  _  _  _  _  _  _  _  _  \n",
      "C  _  _  _  _  _  _  _  _  \n",
      "D  _  _  _  _  _  _  _  _  \n",
      "E  _  _  _  _  _  _  _  _  \n",
      "F  _  _  _  _  _  _  _  _  \n",
      "G  _  _  _  _  _  _  _  _  \n",
      "H  _  _  _  _  _  _  _  _  \n",
      "\n",
      "Unopened:  63\n"
     ]
    },
    {
     "name": "stdin",
     "output_type": "stream",
     "text": [
      "Enter command: ob0\n"
     ]
    },
    {
     "name": "stdout",
     "output_type": "stream",
     "text": [
      "   0  1  2  3  4  5  6  7 \n",
      "A  1  1  0  0  1  2  3  *  \n",
      "B  *  3  1  1  2  *  *  2  \n",
      "C  *  4  *  1  3  *  6  3  \n",
      "D  *  5  2  1  2  *  *  *  \n",
      "E  *  *  1  0  1  4  *  4  \n",
      "F  4  4  2  0  0  3  *  4  \n",
      "G  *  *  2  1  0  2  *  *  \n",
      "H  2  3  *  1  0  1  2  2  \n",
      "\n",
      "\n",
      "You Lose!\n"
     ]
    }
   ],
   "source": []
  },
  {
   "cell_type": "code",
   "execution_count": null,
   "metadata": {},
   "outputs": [],
   "source": []
  }
 ],
 "metadata": {
  "kernelspec": {
   "display_name": "Python 3",
   "language": "python",
   "name": "python3"
  },
  "language_info": {
   "codemirror_mode": {
    "name": "ipython",
    "version": 3
   },
   "file_extension": ".py",
   "mimetype": "text/x-python",
   "name": "python",
   "nbconvert_exporter": "python",
   "pygments_lexer": "ipython3",
   "version": "3.7.4"
  }
 },
 "nbformat": 4,
 "nbformat_minor": 4
}
