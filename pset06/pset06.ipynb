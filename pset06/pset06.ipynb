{
    "cells": [
        {
            "cell_type": "markdown",
            "metadata": {
                "nbgrader": {
                    "grade": false,
                    "locked": true,
                    "solution": false
                },
                "editable": false,
                "deletable": false
            },
            "source": [
                "# Problem Set 7"
            ]
        },
        {
            "cell_type": "markdown",
            "metadata": {
                "nbgrader": {
                    "grade": false,
                    "locked": true,
                    "solution": false
                },
                "editable": false,
                "deletable": false
            },
            "source": [
                "**Q1.** Compare the similarities and differences in doing the following operations for List, Dictionary, Set, and Tuple.\n",
                "\n",
                "- accessing the value of an item\n",
                "- modifying the value of an item\n",
                "- adding an item into the collection\n",
                "- finding an item\n",
                "- traversing items one at a time\n",
                "\n",
                "**Q2.** Design an experiment to find out the computation time of various operations of Python's built-in data structure. You will be assigned to one of the following tasks.\n",
                "\n",
                "- *List:* Design an experiment to find the computation time of the following List operation:\n",
                "    - indexing, e.g. `list_a[x]`\n",
                "    - assignment, e.g. `list_a[x] = 4`\n",
                "    - append, e.g. `list_a.append(4)`\n",
                "    - get number of items, e.g. `len(list_a)`\n",
                "\n",
                "\n",
                "- *List:* Design an experiment to find the computation time of the following List operation:\n",
                "\n",
                "    - extend, e.g. `list_a.extend([4,5,7])`\n",
                "    - insert, e.g. `list_a.insert(pos, 10)`\n",
                "    - concatenation (+), e.g. `list_a = list_b + list_c`\n",
                "    - finding item, e.g. `3 in list_a`\n",
                "\n",
                "\n",
                "- *Tuple:* Design an experiment to find the computation time of the following Tuple operation:\n",
                "\n",
                "    - indexing, e.g. `tuple_a[x]`\n",
                "    - concatenation (+), e.g. `tuple_a = tuple_b + tuple_c`\n",
                "    - finding item, e.g. `3 in tuple_a`\n",
                "    - get number of items, e.g. `len(tuple_a)`\n",
                "\n",
                "\n",
                "- *Dictionary:* Design an experiment to find the computation time of the following Dictionary operation:\n",
                "\n",
                "    - getting value, e.g. `dict_a[key]`\n",
                "    - assignment, e.g. `dict_a[key] = value`\n",
                "    - concatenation (+), e.g. `dict_a = dict_b + dict_c`\n",
                "    - finding item, e.g. `3 in dict_a`\n",
                "    - get number of items, e.g. `len(dict_a)`\n",
                "\n",
                "\n",
                "- *Set:* Design an experiment to find the computation time of the following Set operation:\n",
                "\n",
                "    - intersection, e.g. `set_a = set_b & set_c`\n",
                "    - union, e.g. `set_a = set_b | set_c`\n",
                "    - finding item, e.g. `3 in set_a`\n",
                "    - get number of items, e.g. `len(set_a)`\n",
                "\n",
                "- *Heapq:* Design an experiment to find the computation time of the following Heapq ([https:\/\/docs.python.org\/3.6\/library\/heapq.html](https:\/\/docs.python.org\/3.6\/library\/heapq.html)) operation:\n",
                "\n",
                "    - building heap, e.g. `heapq.heapify(list_a)`\n",
                "    - push, e.g. `heapq.heappush(heap,item)`\n",
                "    - pop, e.g. `heapq.heappop(heap)`\n",
                "    - get the smallest n items, e.g. `heapq.nsmallest(n, list_a)`\n",
                "\n"
            ]
        },
        {
            "cell_type": "code",
            "execution_count": null,
            "metadata": {
                "collapsed": true
            },
            "outputs": [],
            "source": []
        }
    ],
    "metadata": {
        "kernelspec": {
            "display_name": "Python 3.7",
            "language": "python",
            "name": "python3"
        },
        "language_info": {
            "codemirror_mode": {
                "name": "ipython",
                "version": 3
            },
            "file_extension": ".py",
            "mimetype": "text\/x-python",
            "name": "python",
            "nbconvert_exporter": "python",
            "pygments_lexer": "ipython3",
            "version": "3.7.5"
        }
    },
    "nbformat": 4,
    "nbformat_minor": 4
}