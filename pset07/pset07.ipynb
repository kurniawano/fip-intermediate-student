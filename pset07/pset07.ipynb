{
    "cells": [
        {
            "cell_type": "markdown",
            "metadata": {
                "nbgrader": {
                    "grade": false,
                    "locked": true,
                    "solution": false
                },
                "editable": false,
                "deletable": false
            },
            "source": [
                "# Problem Set 7"
            ]
        },
        {
            "cell_type": "markdown",
            "metadata": {
                "nbgrader": {
                    "grade": false,
                    "locked": true,
                    "solution": false
                },
                "editable": false,
                "deletable": false
            },
            "source": [
                "**Q1.** *Recursion: Palindrome.* Redo palindrome problem with Recursion. Derive the recurrence relations and analyze its complexity. "
            ]
        },
        {
            "cell_type": "code",
            "execution_count": 1,
            "metadata": {
                "collapsed": true
            },
            "outputs": [],
            "source": [
                "def palindrome(string):\n",
                "    ###\n",
                "    ### YOUR CODE HERE\n",
                "    ###\n",
                "    pass"
            ]
        },
        {
            "cell_type": "code",
            "execution_count": 2,
            "metadata": {
                "collapsed": true,
                "nbgrader": {
                    "grade": true,
                    "grade_id": "Q1",
                    "locked": true,
                    "points": "1",
                    "solution": false
                },
                "editable": false,
                "deletable": false
            },
            "outputs": [],
            "source": [
                "assert palindrome('a')\n",
                "assert palindrome('bb')\n",
                "assert not palindrome('ab')\n",
                "assert not palindrome('abc')\n",
                "assert palindrome('aba')\n",
                "assert palindrome('123454321')"
            ]
        },
        {
            "cell_type": "markdown",
            "metadata": {
                "nbgrader": {
                    "grade": false,
                    "locked": true,
                    "solution": false
                },
                "editable": false,
                "deletable": false
            },
            "source": [
                "**Q2.** *Recursion: Coin Change.* Write a function that find the smallest number of coins that represent the given value. There are only four possible coins: 10 cents, 20 cents, 50 cents, and 100 cents (1 dollar). The function should return a dictionary with the coin value as its key and the number of coins as its value. For example:\n",
                "\n",
                "```python\n",
                ">>> assert coin_change(50) == {50:1}\n",
                "\n",
                ">>> assert coin_change(80) == {50:1, 20:1, 10:1}\n",
                "\n",
                ">>> assert coin_change(120) == {100:1, 20:1}\n",
                "\n",
                ">>> assert coin_change(90) == {50:1, 20:2}\n",
                "```"
            ]
        },
        {
            "cell_type": "code",
            "execution_count": 3,
            "metadata": {
                "collapsed": true
            },
            "outputs": [],
            "source": [
                "coin_list = (100, 50, 20, 10)\n",
                "\n",
                "def coin_change(total_sum):\n",
                "    ###\n",
                "    ### YOUR CODE HERE\n",
                "    ###\n",
                "    pass\n"
            ]
        },
        {
            "cell_type": "code",
            "execution_count": 4,
            "metadata": {
                "nbgrader": {
                    "grade": true,
                    "grade_id": "Q2",
                    "locked": true,
                    "points": "1",
                    "solution": false
                },
                "editable": false,
                "deletable": false
            },
            "outputs": [
                {
                    "name": "stdout",
                    "output_type": "stream",
                    "text": [
                        "Error: No possible coin can be found for 1\n"
                    ]
                }
            ],
            "source": [
                "assert coin_change(50) == {50:1}\n",
                "assert coin_change(80) == {50:1, 20:1, 10:1}\n",
                "assert coin_change(120) == {100:1, 20:1}\n",
                "assert coin_change(90) == {50:1, 20:2}\n",
                "assert coin_change(40) == {20:2}\n",
                "\n",
                "try:\n",
                "    coin_change(31) \n",
                "except ValueError as e:\n",
                "    print('Error:',e)\n"
            ]
        },
        {
            "cell_type": "markdown",
            "metadata": {
                "nbgrader": {
                    "grade": false,
                    "locked": true,
                    "solution": false
                },
                "editable": false,
                "deletable": false
            },
            "source": [
                "**Q3.** *Towers of Hanoi:* Write a function `move_disks(n, from_tower, to_tower, aux_tower)` which returns an array of String for the movement of disks that solves the [Towers of Hanoi problem](https:\/\/en.wikipedia.org\/wiki\/Tower_of_Hanoi). \n",
                "* The first argument `n` is an Integer input that gives information on the number of disk. \n",
                "* The second argument `from_tower` is a String which is the label of the origin tower.\n",
                "* The third argument `to_tower` is a String which is the label of the destination tower.\n",
                "* The last argument `aux_tower` is a String which is the label of the auxilary tower.\n"
            ]
        },
        {
            "cell_type": "code",
            "execution_count": 5,
            "metadata": {
                "collapsed": true,
                "nbgrader": {
                    "grade": false,
                    "locked": false,
                    "solution": false
                }
            },
            "outputs": [],
            "source": [
                "def move_disks(n, from_tower, to_tower, aux_tower):\n",
                "  result = []\n",
                "  ###\n",
                "  ### YOUR CODE HERE\n",
                "  ###\n",
                "  pass\n",
                "\n",
                "  return result\n",
                "\n"
            ]
        },
        {
            "cell_type": "code",
            "execution_count": 6,
            "metadata": {
                "nbgrader": {
                    "grade": true,
                    "grade_id": "Q3",
                    "locked": true,
                    "points": "1",
                    "solution": false
                },
                "editable": false,
                "deletable": false
            },
            "outputs": [
                {
                    "name": "stdout",
                    "output_type": "stream",
                    "text": [
                        "['Move disk 1 from A to B.', 'Move disk 2 from A to C.', 'Move disk 1 from B to C.', 'Move disk 3 from A to B.', 'Move disk 1 from C to A.', 'Move disk 2 from C to B.', 'Move disk 1 from A to B.']\n",
                        "['Move disk 1 from A to C.', 'Move disk 2 from A to B.', 'Move disk 1 from C to B.', 'Move disk 3 from A to C.', 'Move disk 1 from B to A.', 'Move disk 2 from B to C.', 'Move disk 1 from A to C.', 'Move disk 4 from A to B.', 'Move disk 1 from C to B.', 'Move disk 2 from C to A.', 'Move disk 1 from B to A.', 'Move disk 3 from C to B.', 'Move disk 1 from A to C.', 'Move disk 2 from A to B.', 'Move disk 1 from C to B.']\n"
                    ]
                }
            ],
            "source": [
                "result = move_disks(3, \"A\", \"B\", \"C\")\n",
                "print(result)\n",
                "assert result == [\"Move disk 1 from A to B.\", \"Move disk 2 from A to C.\", \"Move disk 1 from B to C.\", \"Move disk 3 from A to B.\", \"Move disk 1 from C to A.\", \"Move disk 2 from C to B.\", \"Move disk 1 from A to B.\"]\n",
                "\n",
                "result = move_disks(4, \"A\", \"B\", \"C\")\n",
                "print(result)\n",
                "assert result == [\"Move disk 1 from A to C.\", \"Move disk 2 from A to B.\", \"Move disk 1 from C to B.\", \"Move disk 3 from A to C.\", \"Move disk 1 from B to A.\", \"Move disk 2 from B to C.\", \"Move disk 1 from A to C.\", \"Move disk 4 from A to B.\", \"Move disk 1 from C to B.\", \"Move disk 2 from C to A.\", \"Move disk 1 from B to A.\", \"Move disk 3 from C to B.\", \"Move disk 1 from A to C.\", \"Move disk 2 from A to B.\", \"Move disk 1 from C to B.\"]\n",
                "result = move_disks(5, \"A\", \"B\", \"C\")\n",
                "assert result == ['Move disk 1 from A to B.', 'Move disk 2 from A to C.', 'Move disk 1 from B to C.', 'Move disk 3 from A to B.', 'Move disk 1 from C to A.', 'Move disk 2 from C to B.', 'Move disk 1 from A to B.', 'Move disk 4 from A to C.', 'Move disk 1 from B to C.', 'Move disk 2 from B to A.', 'Move disk 1 from C to A.', 'Move disk 3 from B to C.', 'Move disk 1 from A to B.', 'Move disk 2 from A to C.', 'Move disk 1 from B to C.', 'Move disk 5 from A to B.', 'Move disk 1 from C to A.', 'Move disk 2 from C to B.', 'Move disk 1 from A to B.', 'Move disk 3 from C to A.', 'Move disk 1 from B to C.', 'Move disk 2 from B to A.', 'Move disk 1 from C to A.', 'Move disk 4 from C to B.', 'Move disk 1 from A to B.', 'Move disk 2 from A to C.', 'Move disk 1 from B to C.', 'Move disk 3 from A to B.', 'Move disk 1 from C to A.', 'Move disk 2 from C to B.', 'Move disk 1 from A to B.']"
            ]
        },
        {
            "cell_type": "markdown",
            "metadata": {
                "nbgrader": {
                    "grade": false,
                    "locked": true,
                    "solution": false
                },
                "editable": false,
                "deletable": false
            },
            "source": [
                "**Q4.** *Recursion: Merge Sort.* Write a function that does Merge sort on a list of numbers. Measure the time and compare its computation time with that of insertion sort and Python's built-in function `sorted()`.\n"
            ]
        },
        {
            "cell_type": "code",
            "execution_count": 7,
            "metadata": {
                "collapsed": true
            },
            "outputs": [],
            "source": [
                "import random\n",
                "import timeit\n",
                "import copy\n",
                "import math\n",
                "\n",
                "def merge_sort(items):\n",
                "    ###\n",
                "    ### YOUR CODE HERE\n",
                "    ###\n"
            ]
        },
        {
            "cell_type": "code",
            "execution_count": 8,
            "metadata": {
                "collapsed": true,
                "nbgrader": {
                    "grade": true,
                    "grade_id": "Q4",
                    "locked": true,
                    "points": "1",
                    "solution": false
                },
                "editable": false,
                "deletable": false
            },
            "outputs": [],
            "source": [
                "\n",
                "list_a = [54, 26, 93, 17, 77, 31, 44, 55, 20]\n",
                "merge_sort(list_a)\n",
                "assert  list_a == [17, 20, 26, 31, 44, 54, 55, 77, 93]\n",
                "\n"
            ]
        },
        {
            "cell_type": "code",
            "execution_count": 9,
            "metadata": {
                "nbgrader": {
                    "grade": false,
                    "locked": true,
                    "solution": false
                },
                "editable": false,
                "deletable": false
            },
            "outputs": [
                {
                    "name": "stdout",
                    "output_type": "stream",
                    "text": [
                        "[1.8159999999989296e-05, 0.00019857099999998074, 0.002542218000000096, 0.03205288500000003]\n",
                        "[1.847000000054777e-06, 7.80000000000225e-06, 8.872399999992897e-05, 0.0011361280000000695]\n"
                    ]
                }
            ],
            "source": [
                "preparation_insertion = \"\"\"\n",
                "import random\n",
                "from __main__ import merge_sort\n",
                "\"\"\"\n",
                "\n",
                "\n",
                "data =\"\"\"\n",
                "items = list(range({}))\n",
                "random.shuffle(items)\n",
                "\"\"\"\n",
                "\n",
                "preparation_sort = \"\"\"\n",
                "import random\n",
                "\"\"\"\n",
                "x_axis = [10**n for n in range(1,5)]\n",
                "data_list = [data.format(x) for x in x_axis]\n",
                "\n",
                "merge_time = []\n",
                "sort_time = []\n",
                "\n",
                "for x in range(len(x_axis)):\n",
                "\tt = timeit.Timer(\"merge_sort(items)\",preparation_insertion + data_list[x])\n",
                "\tmerge_time.append(t.timeit(number=1))\n",
                "\tt = timeit.Timer(\"sorted(items)\",preparation_sort + data_list[x])\n",
                "\tsort_time.append(t.timeit(number=1))\n",
                "\n",
                "print(merge_time)\n",
                "print(sort_time)\n"
            ]
        },
        {
            "cell_type": "code",
            "execution_count": 11,
            "metadata": {
                "nbgrader": {
                    "grade": false,
                    "locked": true,
                    "solution": false
                },
                "editable": false,
                "deletable": false
            },
            "outputs": [
                {
                    "data": {
                        "image\/png": "[encoded data removed]",
                        "text\/plain": [
                            "<Figure size 432x288 with 2 Axes>"
                        ]
                    },
                    "metadata": {
                        "needs_background": "light"
                    },
                    "output_type": "display_data"
                }
            ],
            "source": [
                "import matplotlib.pyplot as plt\n",
                "\n",
                "plt.subplot(2,1,1)\n",
                "xlogx_axis =[x*math.log(x) for x in x_axis]\n",
                "plt.plot(xlogx_axis,merge_time,'o-')\n",
                "\n",
                "plt.subplot(2,1,2)\n",
                "plt.plot(xlogx_axis,sort_time,'o-')\n",
                "\n",
                "plt.show()\n"
            ]
        },
        {
            "cell_type": "code",
            "execution_count": null,
            "metadata": {
                "collapsed": true
            },
            "outputs": [],
            "source": []
        }
    ],
    "metadata": {
        "kernelspec": {
            "display_name": "Python 3.7",
            "language": "python",
            "name": "python3"
        },
        "language_info": {
            "codemirror_mode": {
                "name": "ipython",
                "version": 3
            },
            "file_extension": ".py",
            "mimetype": "text\/x-python",
            "name": "python",
            "nbconvert_exporter": "python",
            "pygments_lexer": "ipython3",
            "version": "3.7.5"
        }
    },
    "nbformat": 4,
    "nbformat_minor": 4
}