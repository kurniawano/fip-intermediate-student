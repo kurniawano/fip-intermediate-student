{
 "cells": [
  {
   "cell_type": "markdown",
   "metadata": {},
   "source": [
    "# Problem Set 8"
   ]
  },
  {
   "cell_type": "markdown",
   "metadata": {},
   "source": [
    "**Q1.** *Trees:* See the Figure below and answer the following:\n",
    "\n",
    "![](https://www.dropbox.com/s/h95x50y1jd7x8dg/tree1.png?raw=1)\n",
    "\n",
    "- Which is the root node?\n",
    "- How many nodes does the tree have?\n",
    "- How many edges does the tree have?\n",
    "- What is the path from the root to the node with the largest value?\n",
    "- Which is(are) the child(ren) of the node with a value of 14?\n",
    "- Which is the parent of the node with a value of 19?\n",
    "- Which is(are) the sibling(s) of the node with a value 21?\n",
    "- How many leaves does the tree have?\n",
    "- What is the height of the tree?\n",
    "- What is the level of the node with the value 18?\n",
    "- Identify the largest subtree in the tree.\n"
   ]
  },
  {
   "cell_type": "markdown",
   "metadata": {},
   "source": [
    "**Q2.** *Binary Heap:* Write the following functions:\n",
    "\n",
    "- `parent_of(index)`: which return the index of the parent of node `index`.\n",
    "- `left_of(index)`: which return the index of the left child of node `index`.\n",
    "- `right_of(index)`: which return the index of the right child of node `index`.\n",
    "- `max_child(heap:index)`: which return the index of the maximum of the children of node `index`. You can assumes that the node of the current index has at least one child.\n",
    "\n",
    "Hint: \n",
    "- `index` start from 0. \n",
    "- You can refer to the pseudocodes in [Binary Heap and Heapsort](https://colab.research.google.com/drive/1D3qW_LJYwbg9e7ZlGos-eDBM0A_ftm4C).\n",
    "- In finding the index of the largest child, consider the following cases:\n",
    "    - when the node only has one child\n",
    "    - when the node has two children\n"
   ]
  },
  {
   "cell_type": "code",
   "execution_count": 1,
   "metadata": {},
   "outputs": [],
   "source": [
    "def parent_of(index):\n",
    "  pass\n",
    "\n",
    "assert parent_of(1) == 0\n",
    "assert parent_of(2) == 0\n",
    "assert parent_of(5) == 2\n",
    "assert parent_of(6) == 2"
   ]
  },
  {
   "cell_type": "code",
   "execution_count": 2,
   "metadata": {},
   "outputs": [],
   "source": [
    "def left_of(index):\n",
    "  pass\n",
    "\n",
    "assert left_of(0) == 1\n",
    "assert left_of(3) == 7\n",
    "assert left_of(2) == 5\n",
    "assert left_of(4) == 9"
   ]
  },
  {
   "cell_type": "code",
   "execution_count": 3,
   "metadata": {},
   "outputs": [],
   "source": [
    "def right_of(index):\n",
    "  pass\n",
    "\n",
    "assert right_of(0) == 2\n",
    "assert right_of(3) == 8\n",
    "assert right_of(2) == 6\n",
    "assert right_of(4) == 10"
   ]
  },
  {
   "cell_type": "code",
   "execution_count": 4,
   "metadata": {},
   "outputs": [],
   "source": [
    "def max_child(array, index, heap_size):\n",
    "  pass\n",
    "  \n",
    "maxheap = [16, 14, 10, 8, 7, 9, 3, 2, 4, 1]\n",
    "assert max_child(maxheap, 0, len(maxheap)) == 1\n",
    "assert max_child(maxheap, 2, len(maxheap)) == 5\n",
    "assert max_child(maxheap, 3, len(maxheap)) == 8\n",
    "assert max_child(maxheap, 1, len(maxheap)) == 3\n"
   ]
  },
  {
   "cell_type": "markdown",
   "metadata": {},
   "source": [
    "**Q3.** *Binary Heap:* Write two functions \n",
    "\n",
    "- `max_heapify(array, index, size)`: that moves the node down so as to satisfy the heap property.  The first argument is the array that contains the heap. The second argument is an integer index where to start the process of heapifying. The third argument is the size of the heap in the array. This argument will be useful in heapsort algorithm where we take out the elements in the array from the heap. You should make use of `size` argument to determine the last element of the heap in the array rather than `len(array)`.\n",
    "- `build_max_heap(heap)`: that builds the max heap from any array. This function should make use of `max_heapify()` in its definition.\n",
    "\n",
    "Hint: You can refer to the pseudocode in [Binary Heap and Heapsort](https://colab.research.google.com/drive/1D3qW_LJYwbg9e7ZlGos-eDBM0A_ftm4C) for the above functions."
   ]
  },
  {
   "cell_type": "code",
   "execution_count": 5,
   "metadata": {},
   "outputs": [
    {
     "name": "stdout",
     "output_type": "stream",
     "text": [
      "[16, 14, 10, 8, 7, 9, 3, 2, 4, 1]\n",
      "[4, 16, 10, 14, 7, 9, 3, 2, 8, 1]\n"
     ]
    }
   ],
   "source": [
    "def max_heapify(array, index, size):\n",
    "  pass\n",
    "  \n",
    "result = [16, 4, 10, 14, 7, 9, 3, 2, 8, 1]\n",
    "max_heapify(result, 1, len(result))\n",
    "#print(result)\n",
    "assert result == [16, 14, 10, 8, 7, 9, 3, 2, 4, 1]\n",
    "result = [4, 1, 10, 14, 16, 9, 3, 2, 8, 7]\n",
    "max_heapify(result, 1, len(result))\n",
    "#print(result)\n",
    "assert result == [4, 16, 10, 14, 7, 9, 3, 2, 8, 1]\n",
    "  "
   ]
  },
  {
   "cell_type": "code",
   "execution_count": 6,
   "metadata": {},
   "outputs": [
    {
     "name": "stdout",
     "output_type": "stream",
     "text": [
      "[16, 14, 10, 8, 7, 9, 3, 2, 4, 1]\n",
      "[16, 14, 9, 10, 2, 8, 3, 7, 4, 1]\n"
     ]
    }
   ],
   "source": [
    "def build_max_heap(array):\n",
    "  pass\n",
    "\n",
    "array = [4, 1, 3, 2, 16, 9, 10, 14, 8, 7]\n",
    "\n",
    "build_max_heap(array)\n",
    "#print(array)\n",
    "assert array == [16, 14, 10, 8, 7, 9, 3, 2, 4, 1]\n",
    "\n",
    "array = [1, 2, 8, 7, 14, 9, 3, 10, 4, 16]\n",
    "\n",
    "build_max_heap(array)\n",
    "#print(array)\n",
    "assert array == [16, 14, 9, 10, 2, 8, 3, 7, 4, 1] \n"
   ]
  },
  {
   "cell_type": "markdown",
   "metadata": {},
   "source": [
    "**Q4.** *Heapsort:* Implement heapsort algorithm following the pseudocode in [Binary Heap and Heapsort](https://colab.research.google.com/drive/1D3qW_LJYwbg9e7ZlGos-eDBM0A_ftm4C).\n",
    "\n"
   ]
  },
  {
   "cell_type": "code",
   "execution_count": 7,
   "metadata": {},
   "outputs": [
    {
     "name": "stdout",
     "output_type": "stream",
     "text": [
      "[1, 2, 3, 4, 7, 8, 9, 10, 14, 16]\n"
     ]
    }
   ],
   "source": [
    "def heapsort(array):\n",
    "  pass\n",
    "  \n",
    "array = [16, 14, 10, 8, 7, 9, 3, 2, 4, 1]\n",
    "heapsort(array)\n",
    "print(array)\n",
    "assert array == [1, 2, 3, 4, 7, 8, 9, 10, 14, 16]"
   ]
  },
  {
   "cell_type": "code",
   "execution_count": null,
   "metadata": {},
   "outputs": [],
   "source": []
  }
 ],
 "metadata": {
  "kernelspec": {
   "display_name": "Python 3",
   "language": "python",
   "name": "python3"
  },
  "language_info": {
   "codemirror_mode": {
    "name": "ipython",
    "version": 3
   },
   "file_extension": ".py",
   "mimetype": "text/x-python",
   "name": "python",
   "nbconvert_exporter": "python",
   "pygments_lexer": "ipython3",
   "version": "3.7.4"
  }
 },
 "nbformat": 4,
 "nbformat_minor": 4
}
