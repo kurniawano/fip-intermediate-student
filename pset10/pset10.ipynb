{
    "cells": [
        {
            "cell_type": "markdown",
            "metadata": {
                "nbgrader": {
                    "grade": false,
                    "locked": true,
                    "solution": false
                },
                "editable": false,
                "deletable": false
            },
            "source": [
                "# Problem Set 10"
            ]
        },
        {
            "cell_type": "markdown",
            "metadata": {
                "nbgrader": {
                    "grade": false,
                    "locked": true,
                    "solution": false
                },
                "editable": false,
                "deletable": false
            },
            "source": [
                "**Q1.** *Inheritance:* Create a class called `MixedFraction` as a subclass of `Fraction`. A mixed fraction is a fraction that comprises of a whole number, a numerator and a denominator, e.g. `1 2\/3` which is the same as `5\/3`. The class has the following way of initializing its properties:\n",
                "- `__init__(top, bot, whole)`: which takes in three Integers, the whole number, the numerator, and the denominator, e.g. `whole=1`, `top=2`, `bot=3`. The argument `whole` by default is `0`.  You can also specify `top` to be greater than `bot`. \n",
                "\n",
                "The class only has two properties:\n",
                "- `num`: which is the numerator and can be greater than denominator.\n",
                "- `den`: which is the denominator and must be a non-zero number.\n",
                "\n",
                "The class should also have the following methods:\n",
                "- `get_three_numbers()`: which is used to calculate the whole number, numerator and the denominator from a given numerator and denominator. The stored properties are `num` and `den` as in `Fraction` class. This function returns three Integers as a tuple, i.e. `(whole, top, bot)`.\n",
                "\n",
                "The class should also override the `__str__()` method in this manner:\n",
                "- `num\/dem` if the numerator is smaller than the denominator. For example, `2\/3`. \n",
                "- `whole top\/bot` if the numerator is greater than the denominator. For example, `1 2\/3`."
            ]
        },
        {
            "cell_type": "code",
            "execution_count": 1,
            "metadata": {
                "collapsed": true
            },
            "outputs": [],
            "source": [
                "def gcd(a, b):\n",
                "    ###\n",
                "    ### YOUR CODE HERE\n",
                "    ###\n",
                "    pass\n",
                "\n",
                "\n",
                "class Fraction:\n",
                "    ###\n",
                "    ### YOUR CODE HERE\n",
                "    ###\n",
                "    pass"
            ]
        },
        {
            "cell_type": "code",
            "execution_count": 2,
            "metadata": {
                "collapsed": true
            },
            "outputs": [],
            "source": [
                "class MixedFraction(Fraction):\n",
                "  def __init__(self, top, bot, whole=0):\n",
                "    ###\n",
                "    ### YOUR CODE HERE\n",
                "    ###\n",
                "    pass\n",
                "\n",
                "  def get_three_numbers(self):\n",
                "    ###\n",
                "    ### YOUR CODE HERE\n",
                "    ###\n",
                "    return (whole, top, bot)\n",
                "\n",
                "  def __add__(self, other):\n",
                "    ###\n",
                "    ### YOUR CODE HERE\n",
                "    ###\n",
                "\n",
                "  def __str__(self):\n",
                "    ###\n",
                "    ### YOUR CODE HERE\n",
                "    ###\n"
            ]
        },
        {
            "cell_type": "code",
            "execution_count": 3,
            "metadata": {
                "nbgrader": {
                    "grade": true,
                    "grade_id": "Q1a",
                    "locked": true,
                    "points": "1",
                    "solution": false
                },
                "editable": false,
                "deletable": false
            },
            "outputs": [
                {
                    "name": "stdout",
                    "output_type": "stream",
                    "text": [
                        "<class '__main__.MixedFraction'>\n"
                    ]
                }
            ],
            "source": [
                "mf1 = MixedFraction(5, 3)\n",
                "assert mf1.num == 5 and mf1.den == 3\n",
                "assert mf1.get_three_numbers() == (1, 2, 3)\n",
                "mf2 = MixedFraction(2, 3, 1)\n",
                "assert mf2.num == 5 and mf2.den == 3\n",
                "\n",
                "result = mf1 + mf2\n",
                "print(type(result))\n",
                "assert result.num == 10 and result.den == 3\n",
                "\n",
                "assert mf1 == mf2"
            ]
        },
        {
            "cell_type": "code",
            "execution_count": 4,
            "metadata": {
                "collapsed": true,
                "nbgrader": {
                    "grade": true,
                    "grade_id": "Q1b",
                    "locked": true,
                    "points": "1",
                    "solution": false
                },
                "editable": false,
                "deletable": false
            },
            "outputs": [],
            "source": [
                "mf1 = MixedFraction(5, 3)\n",
                "assert mf1.num == 5 and mf1.den == 3\n",
                "assert mf1.get_three_numbers() == (1, 2, 3)\n",
                "mf2 = MixedFraction(2, 3, 1)\n",
                "assert mf2.num == 5 and mf2.den == 3\n",
                "\n",
                "result = mf1 + mf2\n",
                "assert result.num == 10 and result.den == 3\n",
                "\n",
                "result = mf1 * mf2\n",
                "assert result.num == 25 and result.den == 9\n",
                "\n",
                "mf3 = MixedFraction(1, 2, 1)\n",
                "result = mf1 - mf3\n",
                "assert result.num == 1 and result.den == 6\n",
                "\n",
                "assert str(mf1) == \"1 2\/3\""
            ]
        },
        {
            "cell_type": "markdown",
            "metadata": {
                "nbgrader": {
                    "grade": false,
                    "locked": true,
                    "solution": false
                },
                "editable": false,
                "deletable": false
            },
            "source": [
                "**Q2.** Write a class called `EvaluateFraction` that evaluates postfix notation implemented Stack and Queue data structures. Postfix notation is a way of writing expressions without using parenthesis. For example, the expression `(1+2)*3` would be written as `1 2 + 3 *`. The class `EvaluateFraction` has the following method:\n",
                "- `input(inp)`: which pushes the input input one at a time. For example, to create a postfix notation `1 2 + 3 *`, we can call this method repetitively, e.g. `e.input('1'); e.input('2'); e.input('+'); e.input('3'); e.input('*')`. Notice that the input is of String data type. \n",
                "- `evaluate()`: which returns the output of the expression.\n",
                "- `get_fraction(inp)`: which takes in an input string and returns a `Fraction` object. \n",
                "\n",
                "Postfix notation is evaluated using a Stack. You can implement Stack using your previous Stack class. The input streams from `input()` are stored in a Queue, which we will again implement using your previous Queue class. If the output of the Queue is a number, the item is pushed into the stack. If it is an operator, we will apply the operator to the two top most item n the stacks and push the result back into the stack. "
            ]
        },
        {
            "cell_type": "code",
            "execution_count": 5,
            "metadata": {
                "collapsed": true
            },
            "outputs": [],
            "source": [
                "class Stack:\n",
                "    ###\n",
                "    ### YOUR CODE HERE\n",
                "    ###\n",
                "    pass"
            ]
        },
        {
            "cell_type": "code",
            "execution_count": 6,
            "metadata": {
                "collapsed": true
            },
            "outputs": [],
            "source": [
                "#class Queue:\n",
                "#    ### BEGIN SOLUTION\n",
                "#     def __init__(self):\n",
                "#         self._data = []\n",
                "\n",
                "#     def put(self, item):\n",
                "#         self._data.append(item)\n",
                "\n",
                "#     def get(self):\n",
                "#         return self._data.pop(0)\n",
                "\n",
                "#     def empty(self):\n",
                "#         return len(self._data) == 0\n",
                "\n",
                "#     def qsize(self):\n",
                "#         return len(self._data)\n",
                "\n",
                "class Queue:\n",
                "    def __init__(self):\n",
                "        self._data = []\n",
                "\n",
                "    def put(self, item):\n",
                "        self._data.append(item)\n",
                "\n",
                "    def get(self):\n",
                "        return self._data.pop(0)\n",
                "\n",
                "    @property\n",
                "    def empty(self):\n",
                "        return len(self._data) == 0\n",
                "    @property\n",
                "    def qsize(self):\n",
                "        return len(self._data)\n",
                "    ### END SOLUTION\n",
                "    pass"
            ]
        },
        {
            "cell_type": "code",
            "execution_count": 7,
            "metadata": {
                "collapsed": true
            },
            "outputs": [],
            "source": [
                "class EvaluateFraction:\n",
                "\n",
                "  operands = \"0123456789\"\n",
                "  operators = \"+-*\/\"\n",
                "\n",
                "  def __init__(self):\n",
                "    self.expression = Queue()\n",
                "    self.stack = Stack()\n",
                "\n",
                "  def input(self, item):\n",
                "    ###\n",
                "    ### YOUR CODE HERE\n",
                "    ###\n",
                "    pass\n",
                "\n",
                "  def evaluate(self):\n",
                "    ###\n",
                "    ### YOUR CODE HERE\n",
                "    ###\n",
                "    pass\n",
                "\n",
                "  def get_fraction(self, inp):\n",
                "    pass\n",
                "    ###\n",
                "    ### YOUR CODE HERE\n",
                "    ###\n"
            ]
        },
        {
            "cell_type": "code",
            "execution_count": 8,
            "metadata": {
                "collapsed": true,
                "nbgrader": {
                    "grade": true,
                    "grade_id": "Q2",
                    "locked": true,
                    "points": "1",
                    "solution": false
                },
                "editable": false,
                "deletable": false
            },
            "outputs": [],
            "source": [
                "pe = EvaluateFraction()\n",
                "pe.input(\"1\/2\")\n",
                "pe.input(\"2\/3\")\n",
                "pe.input(\"+\")\n",
                "assert pe.evaluate()==Fraction(7, 6)\n",
                "\n",
                "pe.input(\"1\/2\")\n",
                "pe.input(\"2\/3\")\n",
                "pe.input(\"+\")\n",
                "pe.input(\"1\/6\")\n",
                "pe.input(\"-\")\n",
                "assert pe.evaluate()==Fraction(1, 1)\n",
                "\n",
                "pe.input(\"1\/2\")\n",
                "pe.input(\"2\/3\")\n",
                "pe.input(\"+\")\n",
                "pe.input(\"1\/6\")\n",
                "pe.input(\"-\")\n",
                "pe.input(\"3\/4\")\n",
                "pe.input(\"*\")\n",
                "assert pe.evaluate()==Fraction(3, 4)"
            ]
        },
        {
            "cell_type": "markdown",
            "metadata": {
                "nbgrader": {
                    "grade": false,
                    "locked": true,
                    "solution": false
                },
                "editable": false,
                "deletable": false
            },
            "source": [
                "**Q3.** Modify Q2 so that it can work with MixedFraction. Write a class called `EvaluateMixedFraction` as a subclass of `EvaluateFraction`. You need to override the following methods:\n",
                "- `get_fraction(inp)`: This function should be able to handle string input for MixedFraction such as `1 1\/2` or `3\/2`. It should return a `MixedFraction` object.\n",
                "- `evaluate()`: This function should return `MixedFraction` object rather than `Fraction` object. "
            ]
        },
        {
            "cell_type": "code",
            "execution_count": 9,
            "metadata": {
                "collapsed": true
            },
            "outputs": [],
            "source": [
                "class EvaluateMixedFraction(EvaluateFraction):\n",
                "  ###\n",
                "  ### YOUR CODE HERE\n",
                "  ###\n",
                "  pass\n",
                "    "
            ]
        },
        {
            "cell_type": "code",
            "execution_count": 10,
            "metadata": {
                "collapsed": true,
                "nbgrader": {
                    "grade": true,
                    "grade_id": "Q3",
                    "locked": true,
                    "points": "1",
                    "solution": false
                },
                "editable": false,
                "deletable": false
            },
            "outputs": [],
            "source": [
                "pe = EvaluateMixedFraction()\n",
                "pe.input(\"3\/2\")\n",
                "pe.input(\"1 2\/3\")\n",
                "pe.input(\"+\")\n",
                "assert pe.evaluate() == MixedFraction(1, 6, 3)\n",
                "\n",
                "pe.input(\"1\/2\")\n",
                "pe.input(\"2\/3\")\n",
                "pe.input(\"+\")\n",
                "pe.input(\"1 1\/8\")\n",
                "pe.input(\"-\")\n",
                "assert pe.evaluate() == MixedFraction(1, 24)\n",
                "\n",
                "pe.input(\"1 1\/2\")\n",
                "pe.input(\"2 2\/3\")\n",
                "pe.input(\"+\")\n",
                "pe.input(\"1 1\/6\")\n",
                "pe.input(\"-\")\n",
                "pe.input(\"5\/4\")\n",
                "pe.input(\"*\")\n",
                "assert pe.evaluate() == MixedFraction( 3, 4, 3)"
            ]
        },
        {
            "cell_type": "markdown",
            "metadata": {
                "nbgrader": {
                    "grade": false,
                    "locked": true,
                    "solution": false
                },
                "editable": false,
                "deletable": false
            },
            "source": [
                "## Vehicle Rental Problem"
            ]
        },
        {
            "cell_type": "markdown",
            "metadata": {
                "nbgrader": {
                    "grade": false,
                    "locked": true,
                    "solution": false
                },
                "editable": false,
                "deletable": false
            },
            "source": [
                "### The Problem\n",
                "\n",
                "The problem is to develop an object-oriented design and implementation of a program capable of maintaining reservations for a vehicle rental agency. The agency rents out three types of vehicles: \n",
                "- cars, \n",
                "- vans, and \n",
                "- moving trucks. \n",
                "\n",
                "The program should allow users to:\n",
                "- check for available vehicles\n",
                "- request rental charges by vehicle type\n",
                "- get the cost of renting a particular type vehicle for a specified period of time, and\n",
                "- make\/cancel reservations\n",
                "\n",
                "See the full problem in: [Vehicle Rental Problem](https:\/\/sutdapac-my.sharepoint.com\/:b:\/g\/personal\/oka_kurniawan_sutd_edu_sg\/EQeebPYHPUBOo7PIeOJDKrsBURo53xBvwBIvi-lq2ToLCA?e=UXgblf)"
            ]
        },
        {
            "cell_type": "markdown",
            "metadata": {
                "nbgrader": {
                    "grade": false,
                    "locked": true,
                    "solution": false
                },
                "editable": false,
                "deletable": false
            },
            "source": [
                "**Q4.** *Classes: Vehicle Polymorphism.* Create a super class Vehicle that takes in miles per gallon (mpg) and vehicle identification number (vin). The class should support a method to return the type of the Vehicle. There are three types: Car, Van, and Truck. It should also supports a method to get VIN, and description. The description method should return a string that states the attributes that are common to all vehicles, i.e. mpg and vin. It should also support a method to check if the vehicle is reserved or not, and a method to set the reservation status. The class Vehicle has three sub classes, i.e. Car, Van and Truck. Each of these classes have different arguments for its initialization. The method that gives the description is overridden in these child classes to give a more detailed description of the class. "
            ]
        },
        {
            "cell_type": "code",
            "execution_count": 11,
            "metadata": {
                "collapsed": true
            },
            "outputs": [],
            "source": [
                "class Vehicle:\n",
                "    def __init__(self, mpg, vin):\n",
                "        ###\n",
                "        ### YOUR CODE HERE\n",
                "        ###\n",
                "        pass\n",
                "\n",
                "    ###\n",
                "    ### YOUR CODE HERE\n",
                "    ###\n"
            ]
        },
        {
            "cell_type": "code",
            "execution_count": 12,
            "metadata": {
                "nbgrader": {
                    "grade": true,
                    "grade_id": "Q4",
                    "locked": true,
                    "points": "1",
                    "solution": false
                },
                "editable": false,
                "deletable": false
            },
            "outputs": [
                {
                    "name": "stdout",
                    "output_type": "stream",
                    "text": [
                        "Chevrolet Camaro     passengers:  4   doors:  2   mpg:  30   vin:  WG8JM5492DY\n",
                        "Chrysler Town&Country    passengers:  7   mpg:  25   vin:  DK3KG8312UE\n",
                        "length(feet): Ten-Foot   rooms:  1   mpg:  12   vin:  EJ5KU2435BC\n"
                    ]
                }
            ],
            "source": [
                "\n",
                "v = Vehicle(12, 'EJ5KU2435BC')\n",
                "assert v._mpg == 12 and v._vin == 'EJ5KU2435BC'\n",
                "\n",
                "c = Car('Chevrolet Camaro', 30, 4, 2, 'WG8JM5492DY')\n",
                "vn = Van('Chrysler Town&Country', 25, 7, 'DK3KG8312UE')\n",
                "t = Truck(12, 'Ten-Foot', 1, 'EJ5KU2435BC')\n",
                "\n",
                "assert c.get_type() == 'Car' and vn.get_type() == 'Van' and t.get_type() == 'Truck'\n",
                "\n",
                "assert c.vin == 'WG8JM5492DY'\n",
                "\n",
                "assert not vn.reserved \n",
                "\n",
                "t.reserved = True\n",
                "assert t.reserved \n",
                "\n",
                "t.reserved = 'False'\n",
                "assert t.reserved\n",
                "\n",
                "t.reserved = False\n",
                "\n",
                "assert not t.reserved\n",
                "\n",
                "print(c.get_description())\n",
                "print(vn.get_description())\n",
                "print(t.get_description())"
            ]
        },
        {
            "cell_type": "markdown",
            "metadata": {
                "nbgrader": {
                    "grade": false,
                    "locked": true,
                    "solution": false
                },
                "editable": false,
                "deletable": false
            },
            "source": [
                "**Q5.** *Classes: Vehicle Rental Program. (optional)* Refer to the other PDF handout and complete the other parts of Vehicle Rental Program.\n",
                "\n",
                "Hints:\n",
                "- Refer to the UML diagram below.\n",
                "- Use [PEP8](https:\/\/www.python.org\/dev\/peps\/pep-0008\/) convention in the namings.\n",
                "\n",
                "![UML Diagram](https:\/\/www.dropbox.com\/s\/88tpf6uds03n3li\/vehicle_uml.png?raw=1)"
            ]
        },
        {
            "cell_type": "code",
            "execution_count": null,
            "metadata": {
                "collapsed": true
            },
            "outputs": [],
            "source": []
        }
    ],
    "metadata": {
        "kernelspec": {
            "display_name": "Python 3.7",
            "language": "python",
            "name": "python3"
        },
        "language_info": {
            "codemirror_mode": {
                "name": "ipython",
                "version": 3
            },
            "file_extension": ".py",
            "mimetype": "text\/x-python",
            "name": "python",
            "nbconvert_exporter": "python",
            "pygments_lexer": "ipython3",
            "version": "3.7.5"
        }
    },
    "nbformat": 4,
    "nbformat_minor": 4
}